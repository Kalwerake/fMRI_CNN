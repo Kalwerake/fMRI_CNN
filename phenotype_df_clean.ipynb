{
 "cells": [
  {
   "cell_type": "code",
   "execution_count": 3,
   "metadata": {
    "collapsed": true
   },
   "outputs": [],
   "source": [
    "from pheno_clean_funcs import AddFileNames\n",
    "import os\n",
    "import re\n",
    "from PIL import Image\n",
    "import nibabel as nib"
   ]
  },
  {
   "cell_type": "markdown",
   "source": [
    "## Phenotypic Data CSV cleaning\n",
    "Phenotypic data is stored in a csv file, that requires pre-processing, for ease of reference I shall add filenames of extracted\n",
    "data, into columns, and deal with any missing data."
   ],
   "metadata": {
    "collapsed": false,
    "pycharm": {
     "name": "#%% md\n"
    }
   }
  },
  {
   "cell_type": "markdown",
   "source": [
    "### Raw phenotypic data"
   ],
   "metadata": {
    "collapsed": false,
    "pycharm": {
     "name": "#%% md\n"
    }
   }
  },
  {
   "cell_type": "markdown",
   "source": [
    "Make object containing the raw dataframe, this object instance can be worked on to produce final output, new features can be added based on extracted data."
   ],
   "metadata": {
    "collapsed": false,
    "pycharm": {
     "name": "#%% md\n"
    }
   }
  },
  {
   "cell_type": "code",
   "execution_count": 55,
   "outputs": [],
   "source": [
    "raw = AddFileNames('Phenotypic_V1_0b_preprocessed.csv', 'phenotype_files')"
   ],
   "metadata": {
    "collapsed": false,
    "pycharm": {
     "name": "#%%\n"
    }
   }
  },
  {
   "cell_type": "code",
   "execution_count": 56,
   "outputs": [],
   "source": [
    "raw_df = raw.df"
   ],
   "metadata": {
    "collapsed": false,
    "pycharm": {
     "name": "#%%\n"
    }
   }
  },
  {
   "cell_type": "code",
   "execution_count": 57,
   "outputs": [
    {
     "data": {
      "text/plain": "   Unnamed: 0  SUB_ID  X  subject SITE_ID       FILE_ID  DX_GROUP  DSM_IV_TR  \\\n0           1   50002  1    50002    PITT   no_filename         1          1   \n1           2   50003  2    50003    PITT  Pitt_0050003         1          1   \n2           3   50004  3    50004    PITT  Pitt_0050004         1          1   \n3           4   50005  4    50005    PITT  Pitt_0050005         1          1   \n4           5   50006  5    50006    PITT  Pitt_0050006         1          1   \n\n   AGE_AT_SCAN  SEX  ... qc_rater_1  qc_notes_rater_1  qc_anat_rater_2  \\\n0        16.77    1  ...       fail               NaN               OK   \n1        24.45    1  ...         OK               NaN               OK   \n2        19.09    1  ...         OK               NaN               OK   \n3        13.73    2  ...         OK               NaN               OK   \n4        13.37    1  ...         OK               NaN               OK   \n\n   qc_anat_notes_rater_2  qc_func_rater_2   qc_func_notes_rater_2  \\\n0                    NaN             fail  ic-parietal-cerebellum   \n1                    NaN               OK                     NaN   \n2                    NaN               OK                     NaN   \n3                    NaN            maybe  ic-parietal-cerebellum   \n4                    NaN            maybe      ic-parietal slight   \n\n  qc_anat_rater_3 qc_anat_notes_rater_3  qc_func_rater_3  \\\n0              OK                   NaN             fail   \n1              OK                   NaN               OK   \n2              OK                   NaN               OK   \n3              OK                   NaN               OK   \n4              OK                   NaN               OK   \n\n   qc_func_notes_rater_3  \n0              ERROR #24  \n1                    NaN  \n2                    NaN  \n3                    NaN  \n4                    NaN  \n\n[5 rows x 104 columns]",
      "text/html": "<div>\n<style scoped>\n    .dataframe tbody tr th:only-of-type {\n        vertical-align: middle;\n    }\n\n    .dataframe tbody tr th {\n        vertical-align: top;\n    }\n\n    .dataframe thead th {\n        text-align: right;\n    }\n</style>\n<table border=\"1\" class=\"dataframe\">\n  <thead>\n    <tr style=\"text-align: right;\">\n      <th></th>\n      <th>Unnamed: 0</th>\n      <th>SUB_ID</th>\n      <th>X</th>\n      <th>subject</th>\n      <th>SITE_ID</th>\n      <th>FILE_ID</th>\n      <th>DX_GROUP</th>\n      <th>DSM_IV_TR</th>\n      <th>AGE_AT_SCAN</th>\n      <th>SEX</th>\n      <th>...</th>\n      <th>qc_rater_1</th>\n      <th>qc_notes_rater_1</th>\n      <th>qc_anat_rater_2</th>\n      <th>qc_anat_notes_rater_2</th>\n      <th>qc_func_rater_2</th>\n      <th>qc_func_notes_rater_2</th>\n      <th>qc_anat_rater_3</th>\n      <th>qc_anat_notes_rater_3</th>\n      <th>qc_func_rater_3</th>\n      <th>qc_func_notes_rater_3</th>\n    </tr>\n  </thead>\n  <tbody>\n    <tr>\n      <th>0</th>\n      <td>1</td>\n      <td>50002</td>\n      <td>1</td>\n      <td>50002</td>\n      <td>PITT</td>\n      <td>no_filename</td>\n      <td>1</td>\n      <td>1</td>\n      <td>16.77</td>\n      <td>1</td>\n      <td>...</td>\n      <td>fail</td>\n      <td>NaN</td>\n      <td>OK</td>\n      <td>NaN</td>\n      <td>fail</td>\n      <td>ic-parietal-cerebellum</td>\n      <td>OK</td>\n      <td>NaN</td>\n      <td>fail</td>\n      <td>ERROR #24</td>\n    </tr>\n    <tr>\n      <th>1</th>\n      <td>2</td>\n      <td>50003</td>\n      <td>2</td>\n      <td>50003</td>\n      <td>PITT</td>\n      <td>Pitt_0050003</td>\n      <td>1</td>\n      <td>1</td>\n      <td>24.45</td>\n      <td>1</td>\n      <td>...</td>\n      <td>OK</td>\n      <td>NaN</td>\n      <td>OK</td>\n      <td>NaN</td>\n      <td>OK</td>\n      <td>NaN</td>\n      <td>OK</td>\n      <td>NaN</td>\n      <td>OK</td>\n      <td>NaN</td>\n    </tr>\n    <tr>\n      <th>2</th>\n      <td>3</td>\n      <td>50004</td>\n      <td>3</td>\n      <td>50004</td>\n      <td>PITT</td>\n      <td>Pitt_0050004</td>\n      <td>1</td>\n      <td>1</td>\n      <td>19.09</td>\n      <td>1</td>\n      <td>...</td>\n      <td>OK</td>\n      <td>NaN</td>\n      <td>OK</td>\n      <td>NaN</td>\n      <td>OK</td>\n      <td>NaN</td>\n      <td>OK</td>\n      <td>NaN</td>\n      <td>OK</td>\n      <td>NaN</td>\n    </tr>\n    <tr>\n      <th>3</th>\n      <td>4</td>\n      <td>50005</td>\n      <td>4</td>\n      <td>50005</td>\n      <td>PITT</td>\n      <td>Pitt_0050005</td>\n      <td>1</td>\n      <td>1</td>\n      <td>13.73</td>\n      <td>2</td>\n      <td>...</td>\n      <td>OK</td>\n      <td>NaN</td>\n      <td>OK</td>\n      <td>NaN</td>\n      <td>maybe</td>\n      <td>ic-parietal-cerebellum</td>\n      <td>OK</td>\n      <td>NaN</td>\n      <td>OK</td>\n      <td>NaN</td>\n    </tr>\n    <tr>\n      <th>4</th>\n      <td>5</td>\n      <td>50006</td>\n      <td>5</td>\n      <td>50006</td>\n      <td>PITT</td>\n      <td>Pitt_0050006</td>\n      <td>1</td>\n      <td>1</td>\n      <td>13.37</td>\n      <td>1</td>\n      <td>...</td>\n      <td>OK</td>\n      <td>NaN</td>\n      <td>OK</td>\n      <td>NaN</td>\n      <td>maybe</td>\n      <td>ic-parietal slight</td>\n      <td>OK</td>\n      <td>NaN</td>\n      <td>OK</td>\n      <td>NaN</td>\n    </tr>\n  </tbody>\n</table>\n<p>5 rows × 104 columns</p>\n</div>"
     },
     "execution_count": 57,
     "metadata": {},
     "output_type": "execute_result"
    }
   ],
   "source": [
    "raw_df.head() # at this stage only the subject identification features and  diagnosis classes are needed."
   ],
   "metadata": {
    "collapsed": false,
    "pycharm": {
     "name": "#%%\n"
    }
   }
  },
  {
   "cell_type": "code",
   "execution_count": 58,
   "outputs": [],
   "source": [
    "st1_df = raw_df[['SITE_ID','X','SUB_ID','FILE_ID','AGE_AT_SCAN','SEX','DSM_IV_TR','DX_GROUP']] # extract necessary data"
   ],
   "metadata": {
    "collapsed": false,
    "pycharm": {
     "name": "#%%\n"
    }
   }
  },
  {
   "cell_type": "code",
   "execution_count": 61,
   "outputs": [],
   "source": [
    "raw.update_df(st1_df) # update object instant dataframe with new df"
   ],
   "metadata": {
    "collapsed": false,
    "pycharm": {
     "name": "#%%\n"
    }
   }
  },
  {
   "cell_type": "code",
   "execution_count": 70,
   "outputs": [],
   "source": [
    "stage_1 = raw.df # store updated df in new variable"
   ],
   "metadata": {
    "collapsed": false,
    "pycharm": {
     "name": "#%%\n"
    }
   }
  },
  {
   "cell_type": "markdown",
   "source": [
    "## Adding FMRI filenames and updating File_ID field\n",
    "File_ID data is neccesary  for data analysis since its an identifier for any data on a subject, and this field contains missing values. these missing values can be imputed using the fMRi data filenames."
   ],
   "metadata": {
    "collapsed": false,
    "pycharm": {
     "name": "#%% md\n"
    }
   }
  },
  {
   "cell_type": "code",
   "execution_count": 63,
   "outputs": [],
   "source": [
    "fMRI_dir = os.path.join(os.getcwd(), 'func_ABIDE') # subdirectory containing fMRI data"
   ],
   "metadata": {
    "collapsed": false,
    "pycharm": {
     "name": "#%%\n"
    }
   }
  },
  {
   "cell_type": "code",
   "execution_count": 66,
   "outputs": [],
   "source": [
    "fMRI_files= next(os.walk(func_repo))[2] # acquire all fMRI files\n",
    "fMRI_files = [fMRI_files[i] for i in range(len(fMRI_files)) if 'nii.gz' in fMRI_files[i]] # limit to nifti files"
   ],
   "metadata": {
    "collapsed": false,
    "pycharm": {
     "name": "#%%\n"
    }
   }
  },
  {
   "cell_type": "code",
   "execution_count": 68,
   "outputs": [
    {
     "name": "stdout",
     "output_type": "stream",
     "text": [
      " Number of fMRI files : 1102 \n",
      " Number of rows in phenotypic file: 1112\n"
     ]
    }
   ],
   "source": [
    "print(f' Number of fMRI files : {len(fMRI_files)} \\n Number of rows in phenotypic file: {len(stage_1)}')"
   ],
   "metadata": {
    "collapsed": false,
    "pycharm": {
     "name": "#%%\n"
    }
   }
  },
  {
   "cell_type": "markdown",
   "source": [
    "There are more subjects in the raw phenotypic data than there are fMRI files, these missing data pertains to fMRI scans that did not pass Quality control checks following preproccing in the CPAC pipeline. the subject with fMRI data will be removed."
   ],
   "metadata": {
    "collapsed": false,
    "pycharm": {
     "name": "#%% md\n"
    }
   }
  },
  {
   "cell_type": "code",
   "execution_count": 74,
   "outputs": [
    {
     "data": {
      "text/plain": "True"
     },
     "execution_count": 74,
     "metadata": {},
     "output_type": "execute_result"
    }
   ],
   "source": [
    "present = [] # indexes of rows with a corresponding fMRI file\n",
    "for i in range(len(fMRI_files)):\n",
    "    here = re.search('5\\d+\\d', fMRI_files[i]).group() # use regex, every subject ID start with 5 following by unique digit combination\n",
    "    present.append(int(here))\n",
    "\n",
    "absent = [] # missing rows\n",
    "for i in range(len(stage_1)):\n",
    "    if stage_1.loc[i, 'SUB_ID'] not in present:\n",
    "        absent.append(i)\n",
    "len(stage_1) - len(absent) == len(fMRI_files)"
   ],
   "metadata": {
    "collapsed": false,
    "pycharm": {
     "name": "#%%\n"
    }
   }
  },
  {
   "cell_type": "code",
   "execution_count": 78,
   "outputs": [
    {
     "data": {
      "text/plain": "    SITE_ID    X  SUB_ID      FILE_ID  AGE_AT_SCAN  SEX  DSM_IV_TR  DX_GROUP\n909  UCLA_1  910   51232  no_filename        15.79    1          1         1\n910  UCLA_1  911   51233  no_filename        12.75    1          1         1\n919  UCLA_1  920   51242  no_filename        14.14    2          1         1\n920  UCLA_1  921   51243  no_filename        11.69    1          1         1\n921  UCLA_1  922   51244  no_filename        13.09    1          1         1\n922  UCLA_1  923   51245  no_filename        14.98    1          1         1\n923  UCLA_1  924   51246  no_filename        13.10    1          1         1\n924  UCLA_1  925   51247  no_filename        11.97    1          1         1\n947  UCLA_1  948   51270  no_filename        11.08    1          0         2\n979  UCLA_2  980   51310  no_filename        11.70    1          0         2",
      "text/html": "<div>\n<style scoped>\n    .dataframe tbody tr th:only-of-type {\n        vertical-align: middle;\n    }\n\n    .dataframe tbody tr th {\n        vertical-align: top;\n    }\n\n    .dataframe thead th {\n        text-align: right;\n    }\n</style>\n<table border=\"1\" class=\"dataframe\">\n  <thead>\n    <tr style=\"text-align: right;\">\n      <th></th>\n      <th>SITE_ID</th>\n      <th>X</th>\n      <th>SUB_ID</th>\n      <th>FILE_ID</th>\n      <th>AGE_AT_SCAN</th>\n      <th>SEX</th>\n      <th>DSM_IV_TR</th>\n      <th>DX_GROUP</th>\n    </tr>\n  </thead>\n  <tbody>\n    <tr>\n      <th>909</th>\n      <td>UCLA_1</td>\n      <td>910</td>\n      <td>51232</td>\n      <td>no_filename</td>\n      <td>15.79</td>\n      <td>1</td>\n      <td>1</td>\n      <td>1</td>\n    </tr>\n    <tr>\n      <th>910</th>\n      <td>UCLA_1</td>\n      <td>911</td>\n      <td>51233</td>\n      <td>no_filename</td>\n      <td>12.75</td>\n      <td>1</td>\n      <td>1</td>\n      <td>1</td>\n    </tr>\n    <tr>\n      <th>919</th>\n      <td>UCLA_1</td>\n      <td>920</td>\n      <td>51242</td>\n      <td>no_filename</td>\n      <td>14.14</td>\n      <td>2</td>\n      <td>1</td>\n      <td>1</td>\n    </tr>\n    <tr>\n      <th>920</th>\n      <td>UCLA_1</td>\n      <td>921</td>\n      <td>51243</td>\n      <td>no_filename</td>\n      <td>11.69</td>\n      <td>1</td>\n      <td>1</td>\n      <td>1</td>\n    </tr>\n    <tr>\n      <th>921</th>\n      <td>UCLA_1</td>\n      <td>922</td>\n      <td>51244</td>\n      <td>no_filename</td>\n      <td>13.09</td>\n      <td>1</td>\n      <td>1</td>\n      <td>1</td>\n    </tr>\n    <tr>\n      <th>922</th>\n      <td>UCLA_1</td>\n      <td>923</td>\n      <td>51245</td>\n      <td>no_filename</td>\n      <td>14.98</td>\n      <td>1</td>\n      <td>1</td>\n      <td>1</td>\n    </tr>\n    <tr>\n      <th>923</th>\n      <td>UCLA_1</td>\n      <td>924</td>\n      <td>51246</td>\n      <td>no_filename</td>\n      <td>13.10</td>\n      <td>1</td>\n      <td>1</td>\n      <td>1</td>\n    </tr>\n    <tr>\n      <th>924</th>\n      <td>UCLA_1</td>\n      <td>925</td>\n      <td>51247</td>\n      <td>no_filename</td>\n      <td>11.97</td>\n      <td>1</td>\n      <td>1</td>\n      <td>1</td>\n    </tr>\n    <tr>\n      <th>947</th>\n      <td>UCLA_1</td>\n      <td>948</td>\n      <td>51270</td>\n      <td>no_filename</td>\n      <td>11.08</td>\n      <td>1</td>\n      <td>0</td>\n      <td>2</td>\n    </tr>\n    <tr>\n      <th>979</th>\n      <td>UCLA_2</td>\n      <td>980</td>\n      <td>51310</td>\n      <td>no_filename</td>\n      <td>11.70</td>\n      <td>1</td>\n      <td>0</td>\n      <td>2</td>\n    </tr>\n  </tbody>\n</table>\n</div>"
     },
     "execution_count": 78,
     "metadata": {},
     "output_type": "execute_result"
    }
   ],
   "source": [
    "stage_1.iloc[absent] # rows that did not pass quality control"
   ],
   "metadata": {
    "collapsed": false,
    "pycharm": {
     "name": "#%%\n"
    }
   }
  },
  {
   "cell_type": "code",
   "execution_count": 79,
   "outputs": [
    {
     "name": "stderr",
     "output_type": "stream",
     "text": [
      "/var/folders/0k/w62sf0c17hs15h730mmdkmj40000gn/T/ipykernel_94578/969473639.py:1: SettingWithCopyWarning: \n",
      "A value is trying to be set on a copy of a slice from a DataFrame\n",
      "\n",
      "See the caveats in the documentation: https://pandas.pydata.org/pandas-docs/stable/user_guide/indexing.html#returning-a-view-versus-a-copy\n",
      "  stage_1.drop(absent,inplace = True)\n"
     ]
    }
   ],
   "source": [
    "stage_1.drop(absent,inplace = True) # drop all rows with missing data, inplace\n",
    "stage_1.reset_index(drop= True,inplace = True) # reset index"
   ],
   "metadata": {
    "collapsed": false,
    "pycharm": {
     "name": "#%%\n"
    }
   }
  },
  {
   "cell_type": "code",
   "execution_count": 80,
   "outputs": [],
   "source": [
    "raw.update_df(stage_1) # update object instance"
   ],
   "metadata": {
    "collapsed": false,
    "pycharm": {
     "name": "#%%\n"
    }
   }
  },
  {
   "cell_type": "code",
   "execution_count": 86,
   "outputs": [
    {
     "data": {
      "text/plain": "1102"
     },
     "execution_count": 86,
     "metadata": {},
     "output_type": "execute_result"
    }
   ],
   "source": [
    "len(raw.df) # it worked"
   ],
   "metadata": {
    "collapsed": false,
    "pycharm": {
     "name": "#%%\n"
    }
   }
  },
  {
   "cell_type": "markdown",
   "source": [
    "## Add column with fMRI data filenames\n",
    "\n",
    "Before FILE_ID missing values can be imputed filenames from fMRI data must be added"
   ],
   "metadata": {
    "collapsed": false,
    "pycharm": {
     "name": "#%% md\n"
    }
   }
  },
  {
   "cell_type": "code",
   "execution_count": 85,
   "outputs": [
    {
     "name": "stderr",
     "output_type": "stream",
     "text": [
      "/Users/admin/Documents/Project/pheno_clean_funcs.py:45: SettingWithCopyWarning: \n",
      "A value is trying to be set on a copy of a slice from a DataFrame.\n",
      "Try using .loc[row_indexer,col_indexer] = value instead\n",
      "\n",
      "See the caveats in the documentation: https://pandas.pydata.org/pandas-docs/stable/user_guide/indexing.html#returning-a-view-versus-a-copy\n"
     ]
    },
    {
     "data": {
      "text/plain": "      SITE_ID     X  SUB_ID           FILE_ID  AGE_AT_SCAN  SEX  DSM_IV_TR  \\\n0        PITT     1   50002       no_filename        16.77    1          1   \n1        PITT     2   50003      Pitt_0050003        24.45    1          1   \n2        PITT     3   50004      Pitt_0050004        19.09    1          1   \n3        PITT     4   50005      Pitt_0050005        13.73    2          1   \n4        PITT     5   50006      Pitt_0050006        13.37    1          1   \n...       ...   ...     ...               ...          ...  ...        ...   \n1097      SBL  1108   51583       SBL_0051583        35.00    1          2   \n1098      SBL  1109   51584       SBL_0051584        49.00    1          2   \n1099      SBL  1110   51585       SBL_0051585        27.00    1          1   \n1100  MAX_MUN  1111   51606  MaxMun_a_0051606        29.00    2          2   \n1101  MAX_MUN  1112   51607  MaxMun_a_0051607        26.00    1          2   \n\n      DX_GROUP                            FMRI_FILES  \n0            1      Pitt_0050002_func_preproc.nii.gz  \n1            1      Pitt_0050003_func_preproc.nii.gz  \n2            1      Pitt_0050004_func_preproc.nii.gz  \n3            1      Pitt_0050005_func_preproc.nii.gz  \n4            1      Pitt_0050006_func_preproc.nii.gz  \n...        ...                                   ...  \n1097         1       SBL_0051583_func_preproc.nii.gz  \n1098         1       SBL_0051584_func_preproc.nii.gz  \n1099         1       SBL_0051585_func_preproc.nii.gz  \n1100         1  MaxMun_a_0051606_func_preproc.nii.gz  \n1101         1  MaxMun_a_0051607_func_preproc.nii.gz  \n\n[1102 rows x 9 columns]",
      "text/html": "<div>\n<style scoped>\n    .dataframe tbody tr th:only-of-type {\n        vertical-align: middle;\n    }\n\n    .dataframe tbody tr th {\n        vertical-align: top;\n    }\n\n    .dataframe thead th {\n        text-align: right;\n    }\n</style>\n<table border=\"1\" class=\"dataframe\">\n  <thead>\n    <tr style=\"text-align: right;\">\n      <th></th>\n      <th>SITE_ID</th>\n      <th>X</th>\n      <th>SUB_ID</th>\n      <th>FILE_ID</th>\n      <th>AGE_AT_SCAN</th>\n      <th>SEX</th>\n      <th>DSM_IV_TR</th>\n      <th>DX_GROUP</th>\n      <th>FMRI_FILES</th>\n    </tr>\n  </thead>\n  <tbody>\n    <tr>\n      <th>0</th>\n      <td>PITT</td>\n      <td>1</td>\n      <td>50002</td>\n      <td>no_filename</td>\n      <td>16.77</td>\n      <td>1</td>\n      <td>1</td>\n      <td>1</td>\n      <td>Pitt_0050002_func_preproc.nii.gz</td>\n    </tr>\n    <tr>\n      <th>1</th>\n      <td>PITT</td>\n      <td>2</td>\n      <td>50003</td>\n      <td>Pitt_0050003</td>\n      <td>24.45</td>\n      <td>1</td>\n      <td>1</td>\n      <td>1</td>\n      <td>Pitt_0050003_func_preproc.nii.gz</td>\n    </tr>\n    <tr>\n      <th>2</th>\n      <td>PITT</td>\n      <td>3</td>\n      <td>50004</td>\n      <td>Pitt_0050004</td>\n      <td>19.09</td>\n      <td>1</td>\n      <td>1</td>\n      <td>1</td>\n      <td>Pitt_0050004_func_preproc.nii.gz</td>\n    </tr>\n    <tr>\n      <th>3</th>\n      <td>PITT</td>\n      <td>4</td>\n      <td>50005</td>\n      <td>Pitt_0050005</td>\n      <td>13.73</td>\n      <td>2</td>\n      <td>1</td>\n      <td>1</td>\n      <td>Pitt_0050005_func_preproc.nii.gz</td>\n    </tr>\n    <tr>\n      <th>4</th>\n      <td>PITT</td>\n      <td>5</td>\n      <td>50006</td>\n      <td>Pitt_0050006</td>\n      <td>13.37</td>\n      <td>1</td>\n      <td>1</td>\n      <td>1</td>\n      <td>Pitt_0050006_func_preproc.nii.gz</td>\n    </tr>\n    <tr>\n      <th>...</th>\n      <td>...</td>\n      <td>...</td>\n      <td>...</td>\n      <td>...</td>\n      <td>...</td>\n      <td>...</td>\n      <td>...</td>\n      <td>...</td>\n      <td>...</td>\n    </tr>\n    <tr>\n      <th>1097</th>\n      <td>SBL</td>\n      <td>1108</td>\n      <td>51583</td>\n      <td>SBL_0051583</td>\n      <td>35.00</td>\n      <td>1</td>\n      <td>2</td>\n      <td>1</td>\n      <td>SBL_0051583_func_preproc.nii.gz</td>\n    </tr>\n    <tr>\n      <th>1098</th>\n      <td>SBL</td>\n      <td>1109</td>\n      <td>51584</td>\n      <td>SBL_0051584</td>\n      <td>49.00</td>\n      <td>1</td>\n      <td>2</td>\n      <td>1</td>\n      <td>SBL_0051584_func_preproc.nii.gz</td>\n    </tr>\n    <tr>\n      <th>1099</th>\n      <td>SBL</td>\n      <td>1110</td>\n      <td>51585</td>\n      <td>SBL_0051585</td>\n      <td>27.00</td>\n      <td>1</td>\n      <td>1</td>\n      <td>1</td>\n      <td>SBL_0051585_func_preproc.nii.gz</td>\n    </tr>\n    <tr>\n      <th>1100</th>\n      <td>MAX_MUN</td>\n      <td>1111</td>\n      <td>51606</td>\n      <td>MaxMun_a_0051606</td>\n      <td>29.00</td>\n      <td>2</td>\n      <td>2</td>\n      <td>1</td>\n      <td>MaxMun_a_0051606_func_preproc.nii.gz</td>\n    </tr>\n    <tr>\n      <th>1101</th>\n      <td>MAX_MUN</td>\n      <td>1112</td>\n      <td>51607</td>\n      <td>MaxMun_a_0051607</td>\n      <td>26.00</td>\n      <td>1</td>\n      <td>2</td>\n      <td>1</td>\n      <td>MaxMun_a_0051607_func_preproc.nii.gz</td>\n    </tr>\n  </tbody>\n</table>\n<p>1102 rows × 9 columns</p>\n</div>"
     },
     "execution_count": 85,
     "metadata": {},
     "output_type": "execute_result"
    }
   ],
   "source": [
    "raw.add_feature('FMRI_FILES', 'func_ABIDE', '.nii.gz') #use method `add_feature` to update class and add all filenames"
   ],
   "metadata": {
    "collapsed": false,
    "pycharm": {
     "name": "#%%\n"
    }
   }
  },
  {
   "cell_type": "code",
   "execution_count": 87,
   "outputs": [],
   "source": [
    "stage_2 = raw.df"
   ],
   "metadata": {
    "collapsed": false,
    "pycharm": {
     "name": "#%%\n"
    }
   }
  },
  {
   "cell_type": "code",
   "execution_count": 88,
   "outputs": [
    {
     "data": {
      "text/plain": "  SITE_ID  X  SUB_ID       FILE_ID  AGE_AT_SCAN  SEX  DSM_IV_TR  DX_GROUP  \\\n0    PITT  1   50002   no_filename        16.77    1          1         1   \n1    PITT  2   50003  Pitt_0050003        24.45    1          1         1   \n2    PITT  3   50004  Pitt_0050004        19.09    1          1         1   \n3    PITT  4   50005  Pitt_0050005        13.73    2          1         1   \n4    PITT  5   50006  Pitt_0050006        13.37    1          1         1   \n\n                         FMRI_FILES  \n0  Pitt_0050002_func_preproc.nii.gz  \n1  Pitt_0050003_func_preproc.nii.gz  \n2  Pitt_0050004_func_preproc.nii.gz  \n3  Pitt_0050005_func_preproc.nii.gz  \n4  Pitt_0050006_func_preproc.nii.gz  ",
      "text/html": "<div>\n<style scoped>\n    .dataframe tbody tr th:only-of-type {\n        vertical-align: middle;\n    }\n\n    .dataframe tbody tr th {\n        vertical-align: top;\n    }\n\n    .dataframe thead th {\n        text-align: right;\n    }\n</style>\n<table border=\"1\" class=\"dataframe\">\n  <thead>\n    <tr style=\"text-align: right;\">\n      <th></th>\n      <th>SITE_ID</th>\n      <th>X</th>\n      <th>SUB_ID</th>\n      <th>FILE_ID</th>\n      <th>AGE_AT_SCAN</th>\n      <th>SEX</th>\n      <th>DSM_IV_TR</th>\n      <th>DX_GROUP</th>\n      <th>FMRI_FILES</th>\n    </tr>\n  </thead>\n  <tbody>\n    <tr>\n      <th>0</th>\n      <td>PITT</td>\n      <td>1</td>\n      <td>50002</td>\n      <td>no_filename</td>\n      <td>16.77</td>\n      <td>1</td>\n      <td>1</td>\n      <td>1</td>\n      <td>Pitt_0050002_func_preproc.nii.gz</td>\n    </tr>\n    <tr>\n      <th>1</th>\n      <td>PITT</td>\n      <td>2</td>\n      <td>50003</td>\n      <td>Pitt_0050003</td>\n      <td>24.45</td>\n      <td>1</td>\n      <td>1</td>\n      <td>1</td>\n      <td>Pitt_0050003_func_preproc.nii.gz</td>\n    </tr>\n    <tr>\n      <th>2</th>\n      <td>PITT</td>\n      <td>3</td>\n      <td>50004</td>\n      <td>Pitt_0050004</td>\n      <td>19.09</td>\n      <td>1</td>\n      <td>1</td>\n      <td>1</td>\n      <td>Pitt_0050004_func_preproc.nii.gz</td>\n    </tr>\n    <tr>\n      <th>3</th>\n      <td>PITT</td>\n      <td>4</td>\n      <td>50005</td>\n      <td>Pitt_0050005</td>\n      <td>13.73</td>\n      <td>2</td>\n      <td>1</td>\n      <td>1</td>\n      <td>Pitt_0050005_func_preproc.nii.gz</td>\n    </tr>\n    <tr>\n      <th>4</th>\n      <td>PITT</td>\n      <td>5</td>\n      <td>50006</td>\n      <td>Pitt_0050006</td>\n      <td>13.37</td>\n      <td>1</td>\n      <td>1</td>\n      <td>1</td>\n      <td>Pitt_0050006_func_preproc.nii.gz</td>\n    </tr>\n  </tbody>\n</table>\n</div>"
     },
     "execution_count": 88,
     "metadata": {},
     "output_type": "execute_result"
    }
   ],
   "source": [
    "stage_2.head()"
   ],
   "metadata": {
    "collapsed": false,
    "pycharm": {
     "name": "#%%\n"
    }
   }
  },
  {
   "cell_type": "markdown",
   "source": [
    "### Impute FILE_ID data"
   ],
   "metadata": {
    "collapsed": false,
    "pycharm": {
     "name": "#%% md\n"
    }
   }
  },
  {
   "cell_type": "code",
   "execution_count": 94,
   "outputs": [],
   "source": [
    "file_ids = stage_2['FILE_ID']"
   ],
   "metadata": {
    "collapsed": false,
    "pycharm": {
     "name": "#%%\n"
    }
   }
  },
  {
   "cell_type": "code",
   "execution_count": 96,
   "outputs": [],
   "source": [
    "missing_index = []\n",
    "for i,file in enumerate(file_ids):\n",
    "    pattern = re.search('5\\d+\\d',file) # use regex to search if value contains a string matching subject id\n",
    "    if pattern == None:\n",
    "        missing_index.append(i)"
   ],
   "metadata": {
    "collapsed": false,
    "pycharm": {
     "name": "#%%\n"
    }
   }
  },
  {
   "cell_type": "code",
   "execution_count": 102,
   "outputs": [
    {
     "data": {
      "text/plain": "array(['no_filename'], dtype=object)"
     },
     "execution_count": 102,
     "metadata": {},
     "output_type": "execute_result"
    }
   ],
   "source": [
    "stage_2.loc[missing_index,'FILE_ID'].unique() # all missing values designated as no_filename"
   ],
   "metadata": {
    "collapsed": false,
    "pycharm": {
     "name": "#%%\n"
    }
   }
  },
  {
   "cell_type": "code",
   "execution_count": 103,
   "outputs": [
    {
     "data": {
      "text/plain": "67"
     },
     "execution_count": 103,
     "metadata": {},
     "output_type": "execute_result"
    }
   ],
   "source": [
    "len(missing_index)"
   ],
   "metadata": {
    "collapsed": false,
    "pycharm": {
     "name": "#%%\n"
    }
   }
  },
  {
   "cell_type": "code",
   "execution_count": 105,
   "outputs": [
    {
     "data": {
      "text/plain": "          FILE_ID                            FMRI_FILES\n0     no_filename      Pitt_0050002_func_preproc.nii.gz\n63    no_filename      Olin_0050108_func_preproc.nii.gz\n92    no_filename      Olin_0050137_func_preproc.nii.gz\n104   no_filename      OHSU_0050155_func_preproc.nii.gz\n114   no_filename      OHSU_0050165_func_preproc.nii.gz\n...           ...                                   ...\n1025  no_filename  MaxMun_a_0051367_func_preproc.nii.gz\n1026  no_filename  MaxMun_a_0051368_func_preproc.nii.gz\n1029  no_filename  MaxMun_a_0051371_func_preproc.nii.gz\n1030  no_filename  MaxMun_a_0051372_func_preproc.nii.gz\n1051  no_filename   Caltech_0051475_func_preproc.nii.gz\n\n[67 rows x 2 columns]",
      "text/html": "<div>\n<style scoped>\n    .dataframe tbody tr th:only-of-type {\n        vertical-align: middle;\n    }\n\n    .dataframe tbody tr th {\n        vertical-align: top;\n    }\n\n    .dataframe thead th {\n        text-align: right;\n    }\n</style>\n<table border=\"1\" class=\"dataframe\">\n  <thead>\n    <tr style=\"text-align: right;\">\n      <th></th>\n      <th>FILE_ID</th>\n      <th>FMRI_FILES</th>\n    </tr>\n  </thead>\n  <tbody>\n    <tr>\n      <th>0</th>\n      <td>no_filename</td>\n      <td>Pitt_0050002_func_preproc.nii.gz</td>\n    </tr>\n    <tr>\n      <th>63</th>\n      <td>no_filename</td>\n      <td>Olin_0050108_func_preproc.nii.gz</td>\n    </tr>\n    <tr>\n      <th>92</th>\n      <td>no_filename</td>\n      <td>Olin_0050137_func_preproc.nii.gz</td>\n    </tr>\n    <tr>\n      <th>104</th>\n      <td>no_filename</td>\n      <td>OHSU_0050155_func_preproc.nii.gz</td>\n    </tr>\n    <tr>\n      <th>114</th>\n      <td>no_filename</td>\n      <td>OHSU_0050165_func_preproc.nii.gz</td>\n    </tr>\n    <tr>\n      <th>...</th>\n      <td>...</td>\n      <td>...</td>\n    </tr>\n    <tr>\n      <th>1025</th>\n      <td>no_filename</td>\n      <td>MaxMun_a_0051367_func_preproc.nii.gz</td>\n    </tr>\n    <tr>\n      <th>1026</th>\n      <td>no_filename</td>\n      <td>MaxMun_a_0051368_func_preproc.nii.gz</td>\n    </tr>\n    <tr>\n      <th>1029</th>\n      <td>no_filename</td>\n      <td>MaxMun_a_0051371_func_preproc.nii.gz</td>\n    </tr>\n    <tr>\n      <th>1030</th>\n      <td>no_filename</td>\n      <td>MaxMun_a_0051372_func_preproc.nii.gz</td>\n    </tr>\n    <tr>\n      <th>1051</th>\n      <td>no_filename</td>\n      <td>Caltech_0051475_func_preproc.nii.gz</td>\n    </tr>\n  </tbody>\n</table>\n<p>67 rows × 2 columns</p>\n</div>"
     },
     "execution_count": 105,
     "metadata": {},
     "output_type": "execute_result"
    }
   ],
   "source": [
    "stage_2.loc[missing_index,['FILE_ID', 'FMRI_FILES']] # all missing file_ids contain fmri filenames containg desired id"
   ],
   "metadata": {
    "collapsed": false,
    "pycharm": {
     "name": "#%%\n"
    }
   }
  },
  {
   "cell_type": "code",
   "execution_count": 107,
   "outputs": [],
   "source": [
    "for i in missing_index:\n",
    "    correct_id = stage_2.loc[i,'FMRI_FILES'].replace('_func_preproc.nii.gz', '') # take subject id potion of the filenames\n",
    "    stage_2.loc[i, 'FILE_ID'] = correct_id # change the file ids at indexes with missing values to correct id"
   ],
   "metadata": {
    "collapsed": false,
    "pycharm": {
     "name": "#%%\n"
    }
   }
  },
  {
   "cell_type": "code",
   "execution_count": 109,
   "outputs": [
    {
     "data": {
      "text/plain": "      SITE_ID     X  SUB_ID           FILE_ID  AGE_AT_SCAN  SEX  DSM_IV_TR  \\\n0        PITT     1   50002      Pitt_0050002        16.77    1          1   \n63       OLIN    64   50108      Olin_0050108        21.00    1          0   \n92       OLIN    93   50137      Olin_0050137        20.00    1          0   \n104      OHSU   105   50155      OHSU_0050155        14.42    1      -9999   \n114      OHSU   115   50165      OHSU_0050165         9.69    1      -9999   \n...       ...   ...     ...               ...          ...  ...        ...   \n1025  MAX_MUN  1036   51367  MaxMun_a_0051367        21.00    1          0   \n1026  MAX_MUN  1037   51368  MaxMun_a_0051368        28.00    2          0   \n1029  MAX_MUN  1040   51371  MaxMun_a_0051371        48.00    1          0   \n1030  MAX_MUN  1041   51372  MaxMun_a_0051372        46.00    2          0   \n1051  CALTECH  1062   51475   Caltech_0051475        44.20    1          0   \n\n      DX_GROUP                            FMRI_FILES  \n0            1      Pitt_0050002_func_preproc.nii.gz  \n63           2      Olin_0050108_func_preproc.nii.gz  \n92           1      Olin_0050137_func_preproc.nii.gz  \n104          1      OHSU_0050155_func_preproc.nii.gz  \n114          2      OHSU_0050165_func_preproc.nii.gz  \n...        ...                                   ...  \n1025         2  MaxMun_a_0051367_func_preproc.nii.gz  \n1026         2  MaxMun_a_0051368_func_preproc.nii.gz  \n1029         2  MaxMun_a_0051371_func_preproc.nii.gz  \n1030         2  MaxMun_a_0051372_func_preproc.nii.gz  \n1051         2   Caltech_0051475_func_preproc.nii.gz  \n\n[67 rows x 9 columns]",
      "text/html": "<div>\n<style scoped>\n    .dataframe tbody tr th:only-of-type {\n        vertical-align: middle;\n    }\n\n    .dataframe tbody tr th {\n        vertical-align: top;\n    }\n\n    .dataframe thead th {\n        text-align: right;\n    }\n</style>\n<table border=\"1\" class=\"dataframe\">\n  <thead>\n    <tr style=\"text-align: right;\">\n      <th></th>\n      <th>SITE_ID</th>\n      <th>X</th>\n      <th>SUB_ID</th>\n      <th>FILE_ID</th>\n      <th>AGE_AT_SCAN</th>\n      <th>SEX</th>\n      <th>DSM_IV_TR</th>\n      <th>DX_GROUP</th>\n      <th>FMRI_FILES</th>\n    </tr>\n  </thead>\n  <tbody>\n    <tr>\n      <th>0</th>\n      <td>PITT</td>\n      <td>1</td>\n      <td>50002</td>\n      <td>Pitt_0050002</td>\n      <td>16.77</td>\n      <td>1</td>\n      <td>1</td>\n      <td>1</td>\n      <td>Pitt_0050002_func_preproc.nii.gz</td>\n    </tr>\n    <tr>\n      <th>63</th>\n      <td>OLIN</td>\n      <td>64</td>\n      <td>50108</td>\n      <td>Olin_0050108</td>\n      <td>21.00</td>\n      <td>1</td>\n      <td>0</td>\n      <td>2</td>\n      <td>Olin_0050108_func_preproc.nii.gz</td>\n    </tr>\n    <tr>\n      <th>92</th>\n      <td>OLIN</td>\n      <td>93</td>\n      <td>50137</td>\n      <td>Olin_0050137</td>\n      <td>20.00</td>\n      <td>1</td>\n      <td>0</td>\n      <td>1</td>\n      <td>Olin_0050137_func_preproc.nii.gz</td>\n    </tr>\n    <tr>\n      <th>104</th>\n      <td>OHSU</td>\n      <td>105</td>\n      <td>50155</td>\n      <td>OHSU_0050155</td>\n      <td>14.42</td>\n      <td>1</td>\n      <td>-9999</td>\n      <td>1</td>\n      <td>OHSU_0050155_func_preproc.nii.gz</td>\n    </tr>\n    <tr>\n      <th>114</th>\n      <td>OHSU</td>\n      <td>115</td>\n      <td>50165</td>\n      <td>OHSU_0050165</td>\n      <td>9.69</td>\n      <td>1</td>\n      <td>-9999</td>\n      <td>2</td>\n      <td>OHSU_0050165_func_preproc.nii.gz</td>\n    </tr>\n    <tr>\n      <th>...</th>\n      <td>...</td>\n      <td>...</td>\n      <td>...</td>\n      <td>...</td>\n      <td>...</td>\n      <td>...</td>\n      <td>...</td>\n      <td>...</td>\n      <td>...</td>\n    </tr>\n    <tr>\n      <th>1025</th>\n      <td>MAX_MUN</td>\n      <td>1036</td>\n      <td>51367</td>\n      <td>MaxMun_a_0051367</td>\n      <td>21.00</td>\n      <td>1</td>\n      <td>0</td>\n      <td>2</td>\n      <td>MaxMun_a_0051367_func_preproc.nii.gz</td>\n    </tr>\n    <tr>\n      <th>1026</th>\n      <td>MAX_MUN</td>\n      <td>1037</td>\n      <td>51368</td>\n      <td>MaxMun_a_0051368</td>\n      <td>28.00</td>\n      <td>2</td>\n      <td>0</td>\n      <td>2</td>\n      <td>MaxMun_a_0051368_func_preproc.nii.gz</td>\n    </tr>\n    <tr>\n      <th>1029</th>\n      <td>MAX_MUN</td>\n      <td>1040</td>\n      <td>51371</td>\n      <td>MaxMun_a_0051371</td>\n      <td>48.00</td>\n      <td>1</td>\n      <td>0</td>\n      <td>2</td>\n      <td>MaxMun_a_0051371_func_preproc.nii.gz</td>\n    </tr>\n    <tr>\n      <th>1030</th>\n      <td>MAX_MUN</td>\n      <td>1041</td>\n      <td>51372</td>\n      <td>MaxMun_a_0051372</td>\n      <td>46.00</td>\n      <td>2</td>\n      <td>0</td>\n      <td>2</td>\n      <td>MaxMun_a_0051372_func_preproc.nii.gz</td>\n    </tr>\n    <tr>\n      <th>1051</th>\n      <td>CALTECH</td>\n      <td>1062</td>\n      <td>51475</td>\n      <td>Caltech_0051475</td>\n      <td>44.20</td>\n      <td>1</td>\n      <td>0</td>\n      <td>2</td>\n      <td>Caltech_0051475_func_preproc.nii.gz</td>\n    </tr>\n  </tbody>\n</table>\n<p>67 rows × 9 columns</p>\n</div>"
     },
     "execution_count": 109,
     "metadata": {},
     "output_type": "execute_result"
    }
   ],
   "source": [
    "stage_2.loc[missing_index] # it worked"
   ],
   "metadata": {
    "collapsed": false,
    "pycharm": {
     "name": "#%%\n"
    }
   }
  },
  {
   "cell_type": "code",
   "execution_count": 110,
   "outputs": [],
   "source": [
    "raw.update_df(stage_2)"
   ],
   "metadata": {
    "collapsed": false,
    "pycharm": {
     "name": "#%%\n"
    }
   }
  },
  {
   "cell_type": "code",
   "execution_count": 111,
   "outputs": [
    {
     "data": {
      "text/plain": "      SITE_ID     X  SUB_ID           FILE_ID  AGE_AT_SCAN  SEX  DSM_IV_TR  \\\n0        PITT     1   50002      Pitt_0050002        16.77    1          1   \n1        PITT     2   50003      Pitt_0050003        24.45    1          1   \n2        PITT     3   50004      Pitt_0050004        19.09    1          1   \n3        PITT     4   50005      Pitt_0050005        13.73    2          1   \n4        PITT     5   50006      Pitt_0050006        13.37    1          1   \n...       ...   ...     ...               ...          ...  ...        ...   \n1097      SBL  1108   51583       SBL_0051583        35.00    1          2   \n1098      SBL  1109   51584       SBL_0051584        49.00    1          2   \n1099      SBL  1110   51585       SBL_0051585        27.00    1          1   \n1100  MAX_MUN  1111   51606  MaxMun_a_0051606        29.00    2          2   \n1101  MAX_MUN  1112   51607  MaxMun_a_0051607        26.00    1          2   \n\n      DX_GROUP                            FMRI_FILES  \n0            1      Pitt_0050002_func_preproc.nii.gz  \n1            1      Pitt_0050003_func_preproc.nii.gz  \n2            1      Pitt_0050004_func_preproc.nii.gz  \n3            1      Pitt_0050005_func_preproc.nii.gz  \n4            1      Pitt_0050006_func_preproc.nii.gz  \n...        ...                                   ...  \n1097         1       SBL_0051583_func_preproc.nii.gz  \n1098         1       SBL_0051584_func_preproc.nii.gz  \n1099         1       SBL_0051585_func_preproc.nii.gz  \n1100         1  MaxMun_a_0051606_func_preproc.nii.gz  \n1101         1  MaxMun_a_0051607_func_preproc.nii.gz  \n\n[1102 rows x 9 columns]",
      "text/html": "<div>\n<style scoped>\n    .dataframe tbody tr th:only-of-type {\n        vertical-align: middle;\n    }\n\n    .dataframe tbody tr th {\n        vertical-align: top;\n    }\n\n    .dataframe thead th {\n        text-align: right;\n    }\n</style>\n<table border=\"1\" class=\"dataframe\">\n  <thead>\n    <tr style=\"text-align: right;\">\n      <th></th>\n      <th>SITE_ID</th>\n      <th>X</th>\n      <th>SUB_ID</th>\n      <th>FILE_ID</th>\n      <th>AGE_AT_SCAN</th>\n      <th>SEX</th>\n      <th>DSM_IV_TR</th>\n      <th>DX_GROUP</th>\n      <th>FMRI_FILES</th>\n    </tr>\n  </thead>\n  <tbody>\n    <tr>\n      <th>0</th>\n      <td>PITT</td>\n      <td>1</td>\n      <td>50002</td>\n      <td>Pitt_0050002</td>\n      <td>16.77</td>\n      <td>1</td>\n      <td>1</td>\n      <td>1</td>\n      <td>Pitt_0050002_func_preproc.nii.gz</td>\n    </tr>\n    <tr>\n      <th>1</th>\n      <td>PITT</td>\n      <td>2</td>\n      <td>50003</td>\n      <td>Pitt_0050003</td>\n      <td>24.45</td>\n      <td>1</td>\n      <td>1</td>\n      <td>1</td>\n      <td>Pitt_0050003_func_preproc.nii.gz</td>\n    </tr>\n    <tr>\n      <th>2</th>\n      <td>PITT</td>\n      <td>3</td>\n      <td>50004</td>\n      <td>Pitt_0050004</td>\n      <td>19.09</td>\n      <td>1</td>\n      <td>1</td>\n      <td>1</td>\n      <td>Pitt_0050004_func_preproc.nii.gz</td>\n    </tr>\n    <tr>\n      <th>3</th>\n      <td>PITT</td>\n      <td>4</td>\n      <td>50005</td>\n      <td>Pitt_0050005</td>\n      <td>13.73</td>\n      <td>2</td>\n      <td>1</td>\n      <td>1</td>\n      <td>Pitt_0050005_func_preproc.nii.gz</td>\n    </tr>\n    <tr>\n      <th>4</th>\n      <td>PITT</td>\n      <td>5</td>\n      <td>50006</td>\n      <td>Pitt_0050006</td>\n      <td>13.37</td>\n      <td>1</td>\n      <td>1</td>\n      <td>1</td>\n      <td>Pitt_0050006_func_preproc.nii.gz</td>\n    </tr>\n    <tr>\n      <th>...</th>\n      <td>...</td>\n      <td>...</td>\n      <td>...</td>\n      <td>...</td>\n      <td>...</td>\n      <td>...</td>\n      <td>...</td>\n      <td>...</td>\n      <td>...</td>\n    </tr>\n    <tr>\n      <th>1097</th>\n      <td>SBL</td>\n      <td>1108</td>\n      <td>51583</td>\n      <td>SBL_0051583</td>\n      <td>35.00</td>\n      <td>1</td>\n      <td>2</td>\n      <td>1</td>\n      <td>SBL_0051583_func_preproc.nii.gz</td>\n    </tr>\n    <tr>\n      <th>1098</th>\n      <td>SBL</td>\n      <td>1109</td>\n      <td>51584</td>\n      <td>SBL_0051584</td>\n      <td>49.00</td>\n      <td>1</td>\n      <td>2</td>\n      <td>1</td>\n      <td>SBL_0051584_func_preproc.nii.gz</td>\n    </tr>\n    <tr>\n      <th>1099</th>\n      <td>SBL</td>\n      <td>1110</td>\n      <td>51585</td>\n      <td>SBL_0051585</td>\n      <td>27.00</td>\n      <td>1</td>\n      <td>1</td>\n      <td>1</td>\n      <td>SBL_0051585_func_preproc.nii.gz</td>\n    </tr>\n    <tr>\n      <th>1100</th>\n      <td>MAX_MUN</td>\n      <td>1111</td>\n      <td>51606</td>\n      <td>MaxMun_a_0051606</td>\n      <td>29.00</td>\n      <td>2</td>\n      <td>2</td>\n      <td>1</td>\n      <td>MaxMun_a_0051606_func_preproc.nii.gz</td>\n    </tr>\n    <tr>\n      <th>1101</th>\n      <td>MAX_MUN</td>\n      <td>1112</td>\n      <td>51607</td>\n      <td>MaxMun_a_0051607</td>\n      <td>26.00</td>\n      <td>1</td>\n      <td>2</td>\n      <td>1</td>\n      <td>MaxMun_a_0051607_func_preproc.nii.gz</td>\n    </tr>\n  </tbody>\n</table>\n<p>1102 rows × 9 columns</p>\n</div>"
     },
     "execution_count": 111,
     "metadata": {},
     "output_type": "execute_result"
    }
   ],
   "source": [
    "raw.df"
   ],
   "metadata": {
    "collapsed": false,
    "pycharm": {
     "name": "#%%\n"
    }
   }
  },
  {
   "cell_type": "markdown",
   "source": [
    "## Adding filenames of CC200 atlas time series data\n",
    "- subdirectory containing data: 'rois_cc200'\n",
    "- feature name to be added to dataframe: 'CC200'\n",
    "- file extension: '.1D'"
   ],
   "metadata": {
    "collapsed": false,
    "pycharm": {
     "name": "#%% md\n"
    }
   }
  },
  {
   "cell_type": "code",
   "execution_count": 112,
   "outputs": [
    {
     "name": "stderr",
     "output_type": "stream",
     "text": [
      "/Users/admin/Documents/Project/pheno_clean_funcs.py:45: SettingWithCopyWarning: \n",
      "A value is trying to be set on a copy of a slice from a DataFrame.\n",
      "Try using .loc[row_indexer,col_indexer] = value instead\n",
      "\n",
      "See the caveats in the documentation: https://pandas.pydata.org/pandas-docs/stable/user_guide/indexing.html#returning-a-view-versus-a-copy\n"
     ]
    },
    {
     "data": {
      "text/plain": "      SITE_ID     X  SUB_ID           FILE_ID  AGE_AT_SCAN  SEX  DSM_IV_TR  \\\n0        PITT     1   50002      Pitt_0050002        16.77    1          1   \n1        PITT     2   50003      Pitt_0050003        24.45    1          1   \n2        PITT     3   50004      Pitt_0050004        19.09    1          1   \n3        PITT     4   50005      Pitt_0050005        13.73    2          1   \n4        PITT     5   50006      Pitt_0050006        13.37    1          1   \n...       ...   ...     ...               ...          ...  ...        ...   \n1097      SBL  1108   51583       SBL_0051583        35.00    1          2   \n1098      SBL  1109   51584       SBL_0051584        49.00    1          2   \n1099      SBL  1110   51585       SBL_0051585        27.00    1          1   \n1100  MAX_MUN  1111   51606  MaxMun_a_0051606        29.00    2          2   \n1101  MAX_MUN  1112   51607  MaxMun_a_0051607        26.00    1          2   \n\n      DX_GROUP                            FMRI_FILES  \\\n0            1      Pitt_0050002_func_preproc.nii.gz   \n1            1      Pitt_0050003_func_preproc.nii.gz   \n2            1      Pitt_0050004_func_preproc.nii.gz   \n3            1      Pitt_0050005_func_preproc.nii.gz   \n4            1      Pitt_0050006_func_preproc.nii.gz   \n...        ...                                   ...   \n1097         1       SBL_0051583_func_preproc.nii.gz   \n1098         1       SBL_0051584_func_preproc.nii.gz   \n1099         1       SBL_0051585_func_preproc.nii.gz   \n1100         1  MaxMun_a_0051606_func_preproc.nii.gz   \n1101         1  MaxMun_a_0051607_func_preproc.nii.gz   \n\n                               CC200  \n0         Pitt_0050002_rois_cc200.1D  \n1         Pitt_0050003_rois_cc200.1D  \n2         Pitt_0050004_rois_cc200.1D  \n3         Pitt_0050005_rois_cc200.1D  \n4         Pitt_0050006_rois_cc200.1D  \n...                              ...  \n1097       SBL_0051583_rois_cc200.1D  \n1098       SBL_0051584_rois_cc200.1D  \n1099       SBL_0051585_rois_cc200.1D  \n1100  MaxMun_a_0051606_rois_cc200.1D  \n1101  MaxMun_a_0051607_rois_cc200.1D  \n\n[1102 rows x 10 columns]",
      "text/html": "<div>\n<style scoped>\n    .dataframe tbody tr th:only-of-type {\n        vertical-align: middle;\n    }\n\n    .dataframe tbody tr th {\n        vertical-align: top;\n    }\n\n    .dataframe thead th {\n        text-align: right;\n    }\n</style>\n<table border=\"1\" class=\"dataframe\">\n  <thead>\n    <tr style=\"text-align: right;\">\n      <th></th>\n      <th>SITE_ID</th>\n      <th>X</th>\n      <th>SUB_ID</th>\n      <th>FILE_ID</th>\n      <th>AGE_AT_SCAN</th>\n      <th>SEX</th>\n      <th>DSM_IV_TR</th>\n      <th>DX_GROUP</th>\n      <th>FMRI_FILES</th>\n      <th>CC200</th>\n    </tr>\n  </thead>\n  <tbody>\n    <tr>\n      <th>0</th>\n      <td>PITT</td>\n      <td>1</td>\n      <td>50002</td>\n      <td>Pitt_0050002</td>\n      <td>16.77</td>\n      <td>1</td>\n      <td>1</td>\n      <td>1</td>\n      <td>Pitt_0050002_func_preproc.nii.gz</td>\n      <td>Pitt_0050002_rois_cc200.1D</td>\n    </tr>\n    <tr>\n      <th>1</th>\n      <td>PITT</td>\n      <td>2</td>\n      <td>50003</td>\n      <td>Pitt_0050003</td>\n      <td>24.45</td>\n      <td>1</td>\n      <td>1</td>\n      <td>1</td>\n      <td>Pitt_0050003_func_preproc.nii.gz</td>\n      <td>Pitt_0050003_rois_cc200.1D</td>\n    </tr>\n    <tr>\n      <th>2</th>\n      <td>PITT</td>\n      <td>3</td>\n      <td>50004</td>\n      <td>Pitt_0050004</td>\n      <td>19.09</td>\n      <td>1</td>\n      <td>1</td>\n      <td>1</td>\n      <td>Pitt_0050004_func_preproc.nii.gz</td>\n      <td>Pitt_0050004_rois_cc200.1D</td>\n    </tr>\n    <tr>\n      <th>3</th>\n      <td>PITT</td>\n      <td>4</td>\n      <td>50005</td>\n      <td>Pitt_0050005</td>\n      <td>13.73</td>\n      <td>2</td>\n      <td>1</td>\n      <td>1</td>\n      <td>Pitt_0050005_func_preproc.nii.gz</td>\n      <td>Pitt_0050005_rois_cc200.1D</td>\n    </tr>\n    <tr>\n      <th>4</th>\n      <td>PITT</td>\n      <td>5</td>\n      <td>50006</td>\n      <td>Pitt_0050006</td>\n      <td>13.37</td>\n      <td>1</td>\n      <td>1</td>\n      <td>1</td>\n      <td>Pitt_0050006_func_preproc.nii.gz</td>\n      <td>Pitt_0050006_rois_cc200.1D</td>\n    </tr>\n    <tr>\n      <th>...</th>\n      <td>...</td>\n      <td>...</td>\n      <td>...</td>\n      <td>...</td>\n      <td>...</td>\n      <td>...</td>\n      <td>...</td>\n      <td>...</td>\n      <td>...</td>\n      <td>...</td>\n    </tr>\n    <tr>\n      <th>1097</th>\n      <td>SBL</td>\n      <td>1108</td>\n      <td>51583</td>\n      <td>SBL_0051583</td>\n      <td>35.00</td>\n      <td>1</td>\n      <td>2</td>\n      <td>1</td>\n      <td>SBL_0051583_func_preproc.nii.gz</td>\n      <td>SBL_0051583_rois_cc200.1D</td>\n    </tr>\n    <tr>\n      <th>1098</th>\n      <td>SBL</td>\n      <td>1109</td>\n      <td>51584</td>\n      <td>SBL_0051584</td>\n      <td>49.00</td>\n      <td>1</td>\n      <td>2</td>\n      <td>1</td>\n      <td>SBL_0051584_func_preproc.nii.gz</td>\n      <td>SBL_0051584_rois_cc200.1D</td>\n    </tr>\n    <tr>\n      <th>1099</th>\n      <td>SBL</td>\n      <td>1110</td>\n      <td>51585</td>\n      <td>SBL_0051585</td>\n      <td>27.00</td>\n      <td>1</td>\n      <td>1</td>\n      <td>1</td>\n      <td>SBL_0051585_func_preproc.nii.gz</td>\n      <td>SBL_0051585_rois_cc200.1D</td>\n    </tr>\n    <tr>\n      <th>1100</th>\n      <td>MAX_MUN</td>\n      <td>1111</td>\n      <td>51606</td>\n      <td>MaxMun_a_0051606</td>\n      <td>29.00</td>\n      <td>2</td>\n      <td>2</td>\n      <td>1</td>\n      <td>MaxMun_a_0051606_func_preproc.nii.gz</td>\n      <td>MaxMun_a_0051606_rois_cc200.1D</td>\n    </tr>\n    <tr>\n      <th>1101</th>\n      <td>MAX_MUN</td>\n      <td>1112</td>\n      <td>51607</td>\n      <td>MaxMun_a_0051607</td>\n      <td>26.00</td>\n      <td>1</td>\n      <td>2</td>\n      <td>1</td>\n      <td>MaxMun_a_0051607_func_preproc.nii.gz</td>\n      <td>MaxMun_a_0051607_rois_cc200.1D</td>\n    </tr>\n  </tbody>\n</table>\n<p>1102 rows × 10 columns</p>\n</div>"
     },
     "execution_count": 112,
     "metadata": {},
     "output_type": "execute_result"
    }
   ],
   "source": [
    "raw.add_feature('CC200','rois_cc200', '.1D')"
   ],
   "metadata": {
    "collapsed": false,
    "pycharm": {
     "name": "#%%\n"
    }
   }
  },
  {
   "cell_type": "code",
   "execution_count": 117,
   "outputs": [],
   "source": [
    "stage_3 = raw.df"
   ],
   "metadata": {
    "collapsed": false,
    "pycharm": {
     "name": "#%%\n"
    }
   }
  },
  {
   "cell_type": "code",
   "execution_count": 121,
   "outputs": [
    {
     "data": {
      "text/plain": "'/Users/admin/Documents/Project/phenotype_files'"
     },
     "execution_count": 121,
     "metadata": {},
     "output_type": "execute_result"
    }
   ],
   "source": [
    "raw.pheno_dir"
   ],
   "metadata": {
    "collapsed": false,
    "pycharm": {
     "name": "#%%\n"
    }
   }
  },
  {
   "cell_type": "code",
   "execution_count": 119,
   "outputs": [],
   "source": [
    "save_path = os.path.join(raw.pheno_dir, 'pheno_clean.csv') # path for saving this dataframe"
   ],
   "metadata": {
    "collapsed": false,
    "pycharm": {
     "name": "#%%\n"
    }
   }
  },
  {
   "cell_type": "code",
   "execution_count": 122,
   "outputs": [],
   "source": [
    "stage_3.to_csv(save_path)"
   ],
   "metadata": {
    "collapsed": false,
    "pycharm": {
     "name": "#%%\n"
    }
   }
  },
  {
   "cell_type": "markdown",
   "source": [
    "## Removing data with low temporal resolution\n",
    "Referring to Notebook `EDA` there are fMRI files that contain less than 100 time points, this is lower than the required temporal resolution for calculating an accurate measure of dynamic correlation, so these shall be removed.\n"
   ],
   "metadata": {
    "collapsed": false
   }
  },
  {
   "cell_type": "code",
   "execution_count": 143,
   "outputs": [
    {
     "data": {
      "text/plain": "<PIL.PngImagePlugin.PngImageFile image mode=RGBA size=500x500>",
      "image/png": "[encoded data removed]"
     },
     "execution_count": 143,
     "metadata": {},
     "output_type": "execute_result"
    }
   ],
   "source": [
    "myImage = Image.open(\"time_fig.png\")\n",
    "myImage"
   ],
   "metadata": {
    "collapsed": false,
    "pycharm": {
     "name": "#%%\n"
    }
   }
  },
  {
   "cell_type": "code",
   "execution_count": 11,
   "outputs": [],
   "source": [
    "fMRI_dir = os.path.join(os.getcwd(), 'func_ABIDE') # subdirectory containing fMRI data"
   ],
   "metadata": {
    "collapsed": false,
    "pycharm": {
     "name": "#%%\n"
    }
   }
  },
  {
   "cell_type": "code",
   "execution_count": 4,
   "outputs": [],
   "source": [
    "time_stage = AddFileNames('pheno_clean.csv','phenotype_files') # create new instance of AddFileNames module"
   ],
   "metadata": {
    "collapsed": false,
    "pycharm": {
     "name": "#%%\n"
    }
   }
  },
  {
   "cell_type": "code",
   "execution_count": 5,
   "outputs": [],
   "source": [
    "t_stage_df = time_stage.df"
   ],
   "metadata": {
    "collapsed": false,
    "pycharm": {
     "name": "#%%\n"
    }
   }
  },
  {
   "cell_type": "code",
   "execution_count": 6,
   "outputs": [],
   "source": [
    "fmri_files = t_stage_df['FMRI_FILES']"
   ],
   "metadata": {
    "collapsed": false,
    "pycharm": {
     "name": "#%%\n"
    }
   }
  },
  {
   "cell_type": "code",
   "execution_count": 12,
   "outputs": [],
   "source": [
    "times = []\n",
    "for i in range(len(fmri_files)):\n",
    "    x = os.path.join(fMRI_dir, fmri_files[i])\n",
    "    y = nib.load(x)\n",
    "    dim = y.shape\n",
    "    times.append(dim[-1])\n",
    "\n",
    "low_indexes = []\n",
    "for i, time in enumerate(times):\n",
    "    if times[i] < 116:\n",
    "        low_indexes.append(i)"
   ],
   "metadata": {
    "collapsed": false,
    "pycharm": {
     "name": "#%%\n"
    }
   }
  },
  {
   "cell_type": "code",
   "execution_count": 159,
   "outputs": [
    {
     "data": {
      "text/plain": "1102"
     },
     "execution_count": 159,
     "metadata": {},
     "output_type": "execute_result"
    }
   ],
   "source": [
    "len(fmri_files)"
   ],
   "metadata": {
    "collapsed": false,
    "pycharm": {
     "name": "#%%\n"
    }
   }
  },
  {
   "cell_type": "code",
   "execution_count": 16,
   "outputs": [
    {
     "data": {
      "text/plain": "     Unnamed: 0 SITE_ID    X  SUB_ID       FILE_ID  AGE_AT_SCAN  SEX  \\\n93           93    OHSU   94   50142  OHSU_0050142        13.99    1   \n94           94    OHSU   95   50143  OHSU_0050143        13.79    1   \n95           95    OHSU   96   50144  OHSU_0050144        10.22    1   \n96           96    OHSU   97   50145  OHSU_0050145        10.75    1   \n97           97    OHSU   98   50146  OHSU_0050146         8.00    1   \n98           98    OHSU   99   50147  OHSU_0050147        11.35    1   \n99           99    OHSU  100   50148  OHSU_0050148        12.65    1   \n100         100    OHSU  101   50149  OHSU_0050149        12.32    1   \n101         101    OHSU  102   50150  OHSU_0050150         9.42    1   \n102         102    OHSU  103   50152  OHSU_0050152         9.73    1   \n103         103    OHSU  104   50153  OHSU_0050153         9.72    1   \n104         104    OHSU  105   50155  OHSU_0050155        14.42    1   \n105         105    OHSU  106   50156  OHSU_0050156        15.23    1   \n106         106    OHSU  107   50157  OHSU_0050157        10.50    1   \n107         107    OHSU  108   50158  OHSU_0050158        11.55    1   \n108         108    OHSU  109   50159  OHSU_0050159        10.29    1   \n109         109    OHSU  110   50160  OHSU_0050160        11.45    1   \n110         110    OHSU  111   50161  OHSU_0050161         9.15    1   \n111         111    OHSU  112   50162  OHSU_0050162         8.94    1   \n112         112    OHSU  113   50163  OHSU_0050163         9.40    1   \n113         113    OHSU  114   50164  OHSU_0050164         8.86    1   \n114         114    OHSU  115   50165  OHSU_0050165         9.69    1   \n115         115    OHSU  116   50166  OHSU_0050166         8.20    1   \n116         116    OHSU  117   50167  OHSU_0050167        10.08    1   \n117         117    OHSU  118   50168  OHSU_0050168         9.69    1   \n118         118    OHSU  119   50169  OHSU_0050169        11.99    1   \n119         119    OHSU  120   50170  OHSU_0050170        10.53    1   \n120         120    OHSU  121   50171  OHSU_0050171        10.64    1   \n\n     DSM_IV_TR  DX_GROUP                        FMRI_FILES  \\\n93       -9999         1  OHSU_0050142_func_preproc.nii.gz   \n94       -9999         1  OHSU_0050143_func_preproc.nii.gz   \n95       -9999         1  OHSU_0050144_func_preproc.nii.gz   \n96       -9999         1  OHSU_0050145_func_preproc.nii.gz   \n97       -9999         1  OHSU_0050146_func_preproc.nii.gz   \n98       -9999         1  OHSU_0050147_func_preproc.nii.gz   \n99       -9999         1  OHSU_0050148_func_preproc.nii.gz   \n100      -9999         1  OHSU_0050149_func_preproc.nii.gz   \n101      -9999         1  OHSU_0050150_func_preproc.nii.gz   \n102      -9999         1  OHSU_0050152_func_preproc.nii.gz   \n103      -9999         1  OHSU_0050153_func_preproc.nii.gz   \n104      -9999         1  OHSU_0050155_func_preproc.nii.gz   \n105      -9999         1  OHSU_0050156_func_preproc.nii.gz   \n106      -9999         2  OHSU_0050157_func_preproc.nii.gz   \n107      -9999         2  OHSU_0050158_func_preproc.nii.gz   \n108      -9999         2  OHSU_0050159_func_preproc.nii.gz   \n109      -9999         2  OHSU_0050160_func_preproc.nii.gz   \n110      -9999         2  OHSU_0050161_func_preproc.nii.gz   \n111      -9999         2  OHSU_0050162_func_preproc.nii.gz   \n112      -9999         2  OHSU_0050163_func_preproc.nii.gz   \n113      -9999         2  OHSU_0050164_func_preproc.nii.gz   \n114      -9999         2  OHSU_0050165_func_preproc.nii.gz   \n115      -9999         2  OHSU_0050166_func_preproc.nii.gz   \n116      -9999         2  OHSU_0050167_func_preproc.nii.gz   \n117      -9999         2  OHSU_0050168_func_preproc.nii.gz   \n118      -9999         2  OHSU_0050169_func_preproc.nii.gz   \n119      -9999         2  OHSU_0050170_func_preproc.nii.gz   \n120      -9999         2  OHSU_0050171_func_preproc.nii.gz   \n\n                          CC200  \n93   OHSU_0050142_rois_cc200.1D  \n94   OHSU_0050143_rois_cc200.1D  \n95   OHSU_0050144_rois_cc200.1D  \n96   OHSU_0050145_rois_cc200.1D  \n97   OHSU_0050146_rois_cc200.1D  \n98   OHSU_0050147_rois_cc200.1D  \n99   OHSU_0050148_rois_cc200.1D  \n100  OHSU_0050149_rois_cc200.1D  \n101  OHSU_0050150_rois_cc200.1D  \n102  OHSU_0050152_rois_cc200.1D  \n103  OHSU_0050153_rois_cc200.1D  \n104  OHSU_0050155_rois_cc200.1D  \n105  OHSU_0050156_rois_cc200.1D  \n106  OHSU_0050157_rois_cc200.1D  \n107  OHSU_0050158_rois_cc200.1D  \n108  OHSU_0050159_rois_cc200.1D  \n109  OHSU_0050160_rois_cc200.1D  \n110  OHSU_0050161_rois_cc200.1D  \n111  OHSU_0050162_rois_cc200.1D  \n112  OHSU_0050163_rois_cc200.1D  \n113  OHSU_0050164_rois_cc200.1D  \n114  OHSU_0050165_rois_cc200.1D  \n115  OHSU_0050166_rois_cc200.1D  \n116  OHSU_0050167_rois_cc200.1D  \n117  OHSU_0050168_rois_cc200.1D  \n118  OHSU_0050169_rois_cc200.1D  \n119  OHSU_0050170_rois_cc200.1D  \n120  OHSU_0050171_rois_cc200.1D  ",
      "text/html": "<div>\n<style scoped>\n    .dataframe tbody tr th:only-of-type {\n        vertical-align: middle;\n    }\n\n    .dataframe tbody tr th {\n        vertical-align: top;\n    }\n\n    .dataframe thead th {\n        text-align: right;\n    }\n</style>\n<table border=\"1\" class=\"dataframe\">\n  <thead>\n    <tr style=\"text-align: right;\">\n      <th></th>\n      <th>Unnamed: 0</th>\n      <th>SITE_ID</th>\n      <th>X</th>\n      <th>SUB_ID</th>\n      <th>FILE_ID</th>\n      <th>AGE_AT_SCAN</th>\n      <th>SEX</th>\n      <th>DSM_IV_TR</th>\n      <th>DX_GROUP</th>\n      <th>FMRI_FILES</th>\n      <th>CC200</th>\n    </tr>\n  </thead>\n  <tbody>\n    <tr>\n      <th>93</th>\n      <td>93</td>\n      <td>OHSU</td>\n      <td>94</td>\n      <td>50142</td>\n      <td>OHSU_0050142</td>\n      <td>13.99</td>\n      <td>1</td>\n      <td>-9999</td>\n      <td>1</td>\n      <td>OHSU_0050142_func_preproc.nii.gz</td>\n      <td>OHSU_0050142_rois_cc200.1D</td>\n    </tr>\n    <tr>\n      <th>94</th>\n      <td>94</td>\n      <td>OHSU</td>\n      <td>95</td>\n      <td>50143</td>\n      <td>OHSU_0050143</td>\n      <td>13.79</td>\n      <td>1</td>\n      <td>-9999</td>\n      <td>1</td>\n      <td>OHSU_0050143_func_preproc.nii.gz</td>\n      <td>OHSU_0050143_rois_cc200.1D</td>\n    </tr>\n    <tr>\n      <th>95</th>\n      <td>95</td>\n      <td>OHSU</td>\n      <td>96</td>\n      <td>50144</td>\n      <td>OHSU_0050144</td>\n      <td>10.22</td>\n      <td>1</td>\n      <td>-9999</td>\n      <td>1</td>\n      <td>OHSU_0050144_func_preproc.nii.gz</td>\n      <td>OHSU_0050144_rois_cc200.1D</td>\n    </tr>\n    <tr>\n      <th>96</th>\n      <td>96</td>\n      <td>OHSU</td>\n      <td>97</td>\n      <td>50145</td>\n      <td>OHSU_0050145</td>\n      <td>10.75</td>\n      <td>1</td>\n      <td>-9999</td>\n      <td>1</td>\n      <td>OHSU_0050145_func_preproc.nii.gz</td>\n      <td>OHSU_0050145_rois_cc200.1D</td>\n    </tr>\n    <tr>\n      <th>97</th>\n      <td>97</td>\n      <td>OHSU</td>\n      <td>98</td>\n      <td>50146</td>\n      <td>OHSU_0050146</td>\n      <td>8.00</td>\n      <td>1</td>\n      <td>-9999</td>\n      <td>1</td>\n      <td>OHSU_0050146_func_preproc.nii.gz</td>\n      <td>OHSU_0050146_rois_cc200.1D</td>\n    </tr>\n    <tr>\n      <th>98</th>\n      <td>98</td>\n      <td>OHSU</td>\n      <td>99</td>\n      <td>50147</td>\n      <td>OHSU_0050147</td>\n      <td>11.35</td>\n      <td>1</td>\n      <td>-9999</td>\n      <td>1</td>\n      <td>OHSU_0050147_func_preproc.nii.gz</td>\n      <td>OHSU_0050147_rois_cc200.1D</td>\n    </tr>\n    <tr>\n      <th>99</th>\n      <td>99</td>\n      <td>OHSU</td>\n      <td>100</td>\n      <td>50148</td>\n      <td>OHSU_0050148</td>\n      <td>12.65</td>\n      <td>1</td>\n      <td>-9999</td>\n      <td>1</td>\n      <td>OHSU_0050148_func_preproc.nii.gz</td>\n      <td>OHSU_0050148_rois_cc200.1D</td>\n    </tr>\n    <tr>\n      <th>100</th>\n      <td>100</td>\n      <td>OHSU</td>\n      <td>101</td>\n      <td>50149</td>\n      <td>OHSU_0050149</td>\n      <td>12.32</td>\n      <td>1</td>\n      <td>-9999</td>\n      <td>1</td>\n      <td>OHSU_0050149_func_preproc.nii.gz</td>\n      <td>OHSU_0050149_rois_cc200.1D</td>\n    </tr>\n    <tr>\n      <th>101</th>\n      <td>101</td>\n      <td>OHSU</td>\n      <td>102</td>\n      <td>50150</td>\n      <td>OHSU_0050150</td>\n      <td>9.42</td>\n      <td>1</td>\n      <td>-9999</td>\n      <td>1</td>\n      <td>OHSU_0050150_func_preproc.nii.gz</td>\n      <td>OHSU_0050150_rois_cc200.1D</td>\n    </tr>\n    <tr>\n      <th>102</th>\n      <td>102</td>\n      <td>OHSU</td>\n      <td>103</td>\n      <td>50152</td>\n      <td>OHSU_0050152</td>\n      <td>9.73</td>\n      <td>1</td>\n      <td>-9999</td>\n      <td>1</td>\n      <td>OHSU_0050152_func_preproc.nii.gz</td>\n      <td>OHSU_0050152_rois_cc200.1D</td>\n    </tr>\n    <tr>\n      <th>103</th>\n      <td>103</td>\n      <td>OHSU</td>\n      <td>104</td>\n      <td>50153</td>\n      <td>OHSU_0050153</td>\n      <td>9.72</td>\n      <td>1</td>\n      <td>-9999</td>\n      <td>1</td>\n      <td>OHSU_0050153_func_preproc.nii.gz</td>\n      <td>OHSU_0050153_rois_cc200.1D</td>\n    </tr>\n    <tr>\n      <th>104</th>\n      <td>104</td>\n      <td>OHSU</td>\n      <td>105</td>\n      <td>50155</td>\n      <td>OHSU_0050155</td>\n      <td>14.42</td>\n      <td>1</td>\n      <td>-9999</td>\n      <td>1</td>\n      <td>OHSU_0050155_func_preproc.nii.gz</td>\n      <td>OHSU_0050155_rois_cc200.1D</td>\n    </tr>\n    <tr>\n      <th>105</th>\n      <td>105</td>\n      <td>OHSU</td>\n      <td>106</td>\n      <td>50156</td>\n      <td>OHSU_0050156</td>\n      <td>15.23</td>\n      <td>1</td>\n      <td>-9999</td>\n      <td>1</td>\n      <td>OHSU_0050156_func_preproc.nii.gz</td>\n      <td>OHSU_0050156_rois_cc200.1D</td>\n    </tr>\n    <tr>\n      <th>106</th>\n      <td>106</td>\n      <td>OHSU</td>\n      <td>107</td>\n      <td>50157</td>\n      <td>OHSU_0050157</td>\n      <td>10.50</td>\n      <td>1</td>\n      <td>-9999</td>\n      <td>2</td>\n      <td>OHSU_0050157_func_preproc.nii.gz</td>\n      <td>OHSU_0050157_rois_cc200.1D</td>\n    </tr>\n    <tr>\n      <th>107</th>\n      <td>107</td>\n      <td>OHSU</td>\n      <td>108</td>\n      <td>50158</td>\n      <td>OHSU_0050158</td>\n      <td>11.55</td>\n      <td>1</td>\n      <td>-9999</td>\n      <td>2</td>\n      <td>OHSU_0050158_func_preproc.nii.gz</td>\n      <td>OHSU_0050158_rois_cc200.1D</td>\n    </tr>\n    <tr>\n      <th>108</th>\n      <td>108</td>\n      <td>OHSU</td>\n      <td>109</td>\n      <td>50159</td>\n      <td>OHSU_0050159</td>\n      <td>10.29</td>\n      <td>1</td>\n      <td>-9999</td>\n      <td>2</td>\n      <td>OHSU_0050159_func_preproc.nii.gz</td>\n      <td>OHSU_0050159_rois_cc200.1D</td>\n    </tr>\n    <tr>\n      <th>109</th>\n      <td>109</td>\n      <td>OHSU</td>\n      <td>110</td>\n      <td>50160</td>\n      <td>OHSU_0050160</td>\n      <td>11.45</td>\n      <td>1</td>\n      <td>-9999</td>\n      <td>2</td>\n      <td>OHSU_0050160_func_preproc.nii.gz</td>\n      <td>OHSU_0050160_rois_cc200.1D</td>\n    </tr>\n    <tr>\n      <th>110</th>\n      <td>110</td>\n      <td>OHSU</td>\n      <td>111</td>\n      <td>50161</td>\n      <td>OHSU_0050161</td>\n      <td>9.15</td>\n      <td>1</td>\n      <td>-9999</td>\n      <td>2</td>\n      <td>OHSU_0050161_func_preproc.nii.gz</td>\n      <td>OHSU_0050161_rois_cc200.1D</td>\n    </tr>\n    <tr>\n      <th>111</th>\n      <td>111</td>\n      <td>OHSU</td>\n      <td>112</td>\n      <td>50162</td>\n      <td>OHSU_0050162</td>\n      <td>8.94</td>\n      <td>1</td>\n      <td>-9999</td>\n      <td>2</td>\n      <td>OHSU_0050162_func_preproc.nii.gz</td>\n      <td>OHSU_0050162_rois_cc200.1D</td>\n    </tr>\n    <tr>\n      <th>112</th>\n      <td>112</td>\n      <td>OHSU</td>\n      <td>113</td>\n      <td>50163</td>\n      <td>OHSU_0050163</td>\n      <td>9.40</td>\n      <td>1</td>\n      <td>-9999</td>\n      <td>2</td>\n      <td>OHSU_0050163_func_preproc.nii.gz</td>\n      <td>OHSU_0050163_rois_cc200.1D</td>\n    </tr>\n    <tr>\n      <th>113</th>\n      <td>113</td>\n      <td>OHSU</td>\n      <td>114</td>\n      <td>50164</td>\n      <td>OHSU_0050164</td>\n      <td>8.86</td>\n      <td>1</td>\n      <td>-9999</td>\n      <td>2</td>\n      <td>OHSU_0050164_func_preproc.nii.gz</td>\n      <td>OHSU_0050164_rois_cc200.1D</td>\n    </tr>\n    <tr>\n      <th>114</th>\n      <td>114</td>\n      <td>OHSU</td>\n      <td>115</td>\n      <td>50165</td>\n      <td>OHSU_0050165</td>\n      <td>9.69</td>\n      <td>1</td>\n      <td>-9999</td>\n      <td>2</td>\n      <td>OHSU_0050165_func_preproc.nii.gz</td>\n      <td>OHSU_0050165_rois_cc200.1D</td>\n    </tr>\n    <tr>\n      <th>115</th>\n      <td>115</td>\n      <td>OHSU</td>\n      <td>116</td>\n      <td>50166</td>\n      <td>OHSU_0050166</td>\n      <td>8.20</td>\n      <td>1</td>\n      <td>-9999</td>\n      <td>2</td>\n      <td>OHSU_0050166_func_preproc.nii.gz</td>\n      <td>OHSU_0050166_rois_cc200.1D</td>\n    </tr>\n    <tr>\n      <th>116</th>\n      <td>116</td>\n      <td>OHSU</td>\n      <td>117</td>\n      <td>50167</td>\n      <td>OHSU_0050167</td>\n      <td>10.08</td>\n      <td>1</td>\n      <td>-9999</td>\n      <td>2</td>\n      <td>OHSU_0050167_func_preproc.nii.gz</td>\n      <td>OHSU_0050167_rois_cc200.1D</td>\n    </tr>\n    <tr>\n      <th>117</th>\n      <td>117</td>\n      <td>OHSU</td>\n      <td>118</td>\n      <td>50168</td>\n      <td>OHSU_0050168</td>\n      <td>9.69</td>\n      <td>1</td>\n      <td>-9999</td>\n      <td>2</td>\n      <td>OHSU_0050168_func_preproc.nii.gz</td>\n      <td>OHSU_0050168_rois_cc200.1D</td>\n    </tr>\n    <tr>\n      <th>118</th>\n      <td>118</td>\n      <td>OHSU</td>\n      <td>119</td>\n      <td>50169</td>\n      <td>OHSU_0050169</td>\n      <td>11.99</td>\n      <td>1</td>\n      <td>-9999</td>\n      <td>2</td>\n      <td>OHSU_0050169_func_preproc.nii.gz</td>\n      <td>OHSU_0050169_rois_cc200.1D</td>\n    </tr>\n    <tr>\n      <th>119</th>\n      <td>119</td>\n      <td>OHSU</td>\n      <td>120</td>\n      <td>50170</td>\n      <td>OHSU_0050170</td>\n      <td>10.53</td>\n      <td>1</td>\n      <td>-9999</td>\n      <td>2</td>\n      <td>OHSU_0050170_func_preproc.nii.gz</td>\n      <td>OHSU_0050170_rois_cc200.1D</td>\n    </tr>\n    <tr>\n      <th>120</th>\n      <td>120</td>\n      <td>OHSU</td>\n      <td>121</td>\n      <td>50171</td>\n      <td>OHSU_0050171</td>\n      <td>10.64</td>\n      <td>1</td>\n      <td>-9999</td>\n      <td>2</td>\n      <td>OHSU_0050171_func_preproc.nii.gz</td>\n      <td>OHSU_0050171_rois_cc200.1D</td>\n    </tr>\n  </tbody>\n</table>\n</div>"
     },
     "execution_count": 16,
     "metadata": {},
     "output_type": "execute_result"
    }
   ],
   "source": [
    "t_stage_df.loc[low_indexes] # The data with low temporal resolution"
   ],
   "metadata": {
    "collapsed": false,
    "pycharm": {
     "name": "#%%\n"
    }
   }
  },
  {
   "cell_type": "code",
   "execution_count": 17,
   "outputs": [],
   "source": [
    "t_stage_df.drop(low_indexes, inplace=True) # Drop the rows with low temporal resolution"
   ],
   "metadata": {
    "collapsed": false,
    "pycharm": {
     "name": "#%%\n"
    }
   }
  },
  {
   "cell_type": "code",
   "execution_count": 20,
   "outputs": [],
   "source": [
    "t_stage_df.reset_index(inplace= True, drop=True)# reset index"
   ],
   "metadata": {
    "collapsed": false,
    "pycharm": {
     "name": "#%%\n"
    }
   }
  },
  {
   "cell_type": "code",
   "execution_count": 24,
   "outputs": [],
   "source": [
    "save_path = os.path.join(time_stage.pheno_dir, 'pheno_clean.csv') # path for saving df as csv"
   ],
   "metadata": {
    "collapsed": false,
    "pycharm": {
     "name": "#%%\n"
    }
   }
  },
  {
   "cell_type": "code",
   "execution_count": 25,
   "outputs": [],
   "source": [
    "t_stage_df.to_csv(save_path) # save altered dataframe as csv"
   ],
   "metadata": {
    "collapsed": false,
    "pycharm": {
     "name": "#%%\n"
    }
   }
  },
  {
   "cell_type": "markdown",
   "source": [
    "## Adding pickle filenames containing DFC data"
   ],
   "metadata": {
    "collapsed": false,
    "pycharm": {
     "name": "#%% md\n"
    }
   }
  },
  {
   "cell_type": "code",
   "execution_count": 26,
   "outputs": [],
   "source": [
    "dfc_add = AddFileNames('pheno_clean.csv','phenotype_files')"
   ],
   "metadata": {
    "collapsed": false,
    "pycharm": {
     "name": "#%%\n"
    }
   }
  },
  {
   "cell_type": "code",
   "execution_count": 28,
   "outputs": [
    {
     "data": {
      "text/plain": "      Unnamed: 0.1  Unnamed: 0  SITE_ID     X  SUB_ID           FILE_ID  \\\n0                0           0     PITT     1   50002      Pitt_0050002   \n1                1           1     PITT     2   50003      Pitt_0050003   \n2                2           2     PITT     3   50004      Pitt_0050004   \n3                3           3     PITT     4   50005      Pitt_0050005   \n4                4           4     PITT     5   50006      Pitt_0050006   \n...            ...         ...      ...   ...     ...               ...   \n1069          1069        1097      SBL  1108   51583       SBL_0051583   \n1070          1070        1098      SBL  1109   51584       SBL_0051584   \n1071          1071        1099      SBL  1110   51585       SBL_0051585   \n1072          1072        1100  MAX_MUN  1111   51606  MaxMun_a_0051606   \n1073          1073        1101  MAX_MUN  1112   51607  MaxMun_a_0051607   \n\n      AGE_AT_SCAN  SEX  DSM_IV_TR  DX_GROUP  \\\n0           16.77    1          1         1   \n1           24.45    1          1         1   \n2           19.09    1          1         1   \n3           13.73    2          1         1   \n4           13.37    1          1         1   \n...           ...  ...        ...       ...   \n1069        35.00    1          2         1   \n1070        49.00    1          2         1   \n1071        27.00    1          1         1   \n1072        29.00    2          2         1   \n1073        26.00    1          2         1   \n\n                                FMRI_FILES                           CC200  \n0         Pitt_0050002_func_preproc.nii.gz      Pitt_0050002_rois_cc200.1D  \n1         Pitt_0050003_func_preproc.nii.gz      Pitt_0050003_rois_cc200.1D  \n2         Pitt_0050004_func_preproc.nii.gz      Pitt_0050004_rois_cc200.1D  \n3         Pitt_0050005_func_preproc.nii.gz      Pitt_0050005_rois_cc200.1D  \n4         Pitt_0050006_func_preproc.nii.gz      Pitt_0050006_rois_cc200.1D  \n...                                    ...                             ...  \n1069       SBL_0051583_func_preproc.nii.gz       SBL_0051583_rois_cc200.1D  \n1070       SBL_0051584_func_preproc.nii.gz       SBL_0051584_rois_cc200.1D  \n1071       SBL_0051585_func_preproc.nii.gz       SBL_0051585_rois_cc200.1D  \n1072  MaxMun_a_0051606_func_preproc.nii.gz  MaxMun_a_0051606_rois_cc200.1D  \n1073  MaxMun_a_0051607_func_preproc.nii.gz  MaxMun_a_0051607_rois_cc200.1D  \n\n[1074 rows x 12 columns]",
      "text/html": "<div>\n<style scoped>\n    .dataframe tbody tr th:only-of-type {\n        vertical-align: middle;\n    }\n\n    .dataframe tbody tr th {\n        vertical-align: top;\n    }\n\n    .dataframe thead th {\n        text-align: right;\n    }\n</style>\n<table border=\"1\" class=\"dataframe\">\n  <thead>\n    <tr style=\"text-align: right;\">\n      <th></th>\n      <th>Unnamed: 0.1</th>\n      <th>Unnamed: 0</th>\n      <th>SITE_ID</th>\n      <th>X</th>\n      <th>SUB_ID</th>\n      <th>FILE_ID</th>\n      <th>AGE_AT_SCAN</th>\n      <th>SEX</th>\n      <th>DSM_IV_TR</th>\n      <th>DX_GROUP</th>\n      <th>FMRI_FILES</th>\n      <th>CC200</th>\n    </tr>\n  </thead>\n  <tbody>\n    <tr>\n      <th>0</th>\n      <td>0</td>\n      <td>0</td>\n      <td>PITT</td>\n      <td>1</td>\n      <td>50002</td>\n      <td>Pitt_0050002</td>\n      <td>16.77</td>\n      <td>1</td>\n      <td>1</td>\n      <td>1</td>\n      <td>Pitt_0050002_func_preproc.nii.gz</td>\n      <td>Pitt_0050002_rois_cc200.1D</td>\n    </tr>\n    <tr>\n      <th>1</th>\n      <td>1</td>\n      <td>1</td>\n      <td>PITT</td>\n      <td>2</td>\n      <td>50003</td>\n      <td>Pitt_0050003</td>\n      <td>24.45</td>\n      <td>1</td>\n      <td>1</td>\n      <td>1</td>\n      <td>Pitt_0050003_func_preproc.nii.gz</td>\n      <td>Pitt_0050003_rois_cc200.1D</td>\n    </tr>\n    <tr>\n      <th>2</th>\n      <td>2</td>\n      <td>2</td>\n      <td>PITT</td>\n      <td>3</td>\n      <td>50004</td>\n      <td>Pitt_0050004</td>\n      <td>19.09</td>\n      <td>1</td>\n      <td>1</td>\n      <td>1</td>\n      <td>Pitt_0050004_func_preproc.nii.gz</td>\n      <td>Pitt_0050004_rois_cc200.1D</td>\n    </tr>\n    <tr>\n      <th>3</th>\n      <td>3</td>\n      <td>3</td>\n      <td>PITT</td>\n      <td>4</td>\n      <td>50005</td>\n      <td>Pitt_0050005</td>\n      <td>13.73</td>\n      <td>2</td>\n      <td>1</td>\n      <td>1</td>\n      <td>Pitt_0050005_func_preproc.nii.gz</td>\n      <td>Pitt_0050005_rois_cc200.1D</td>\n    </tr>\n    <tr>\n      <th>4</th>\n      <td>4</td>\n      <td>4</td>\n      <td>PITT</td>\n      <td>5</td>\n      <td>50006</td>\n      <td>Pitt_0050006</td>\n      <td>13.37</td>\n      <td>1</td>\n      <td>1</td>\n      <td>1</td>\n      <td>Pitt_0050006_func_preproc.nii.gz</td>\n      <td>Pitt_0050006_rois_cc200.1D</td>\n    </tr>\n    <tr>\n      <th>...</th>\n      <td>...</td>\n      <td>...</td>\n      <td>...</td>\n      <td>...</td>\n      <td>...</td>\n      <td>...</td>\n      <td>...</td>\n      <td>...</td>\n      <td>...</td>\n      <td>...</td>\n      <td>...</td>\n      <td>...</td>\n    </tr>\n    <tr>\n      <th>1069</th>\n      <td>1069</td>\n      <td>1097</td>\n      <td>SBL</td>\n      <td>1108</td>\n      <td>51583</td>\n      <td>SBL_0051583</td>\n      <td>35.00</td>\n      <td>1</td>\n      <td>2</td>\n      <td>1</td>\n      <td>SBL_0051583_func_preproc.nii.gz</td>\n      <td>SBL_0051583_rois_cc200.1D</td>\n    </tr>\n    <tr>\n      <th>1070</th>\n      <td>1070</td>\n      <td>1098</td>\n      <td>SBL</td>\n      <td>1109</td>\n      <td>51584</td>\n      <td>SBL_0051584</td>\n      <td>49.00</td>\n      <td>1</td>\n      <td>2</td>\n      <td>1</td>\n      <td>SBL_0051584_func_preproc.nii.gz</td>\n      <td>SBL_0051584_rois_cc200.1D</td>\n    </tr>\n    <tr>\n      <th>1071</th>\n      <td>1071</td>\n      <td>1099</td>\n      <td>SBL</td>\n      <td>1110</td>\n      <td>51585</td>\n      <td>SBL_0051585</td>\n      <td>27.00</td>\n      <td>1</td>\n      <td>1</td>\n      <td>1</td>\n      <td>SBL_0051585_func_preproc.nii.gz</td>\n      <td>SBL_0051585_rois_cc200.1D</td>\n    </tr>\n    <tr>\n      <th>1072</th>\n      <td>1072</td>\n      <td>1100</td>\n      <td>MAX_MUN</td>\n      <td>1111</td>\n      <td>51606</td>\n      <td>MaxMun_a_0051606</td>\n      <td>29.00</td>\n      <td>2</td>\n      <td>2</td>\n      <td>1</td>\n      <td>MaxMun_a_0051606_func_preproc.nii.gz</td>\n      <td>MaxMun_a_0051606_rois_cc200.1D</td>\n    </tr>\n    <tr>\n      <th>1073</th>\n      <td>1073</td>\n      <td>1101</td>\n      <td>MAX_MUN</td>\n      <td>1112</td>\n      <td>51607</td>\n      <td>MaxMun_a_0051607</td>\n      <td>26.00</td>\n      <td>1</td>\n      <td>2</td>\n      <td>1</td>\n      <td>MaxMun_a_0051607_func_preproc.nii.gz</td>\n      <td>MaxMun_a_0051607_rois_cc200.1D</td>\n    </tr>\n  </tbody>\n</table>\n<p>1074 rows × 12 columns</p>\n</div>"
     },
     "execution_count": 28,
     "metadata": {},
     "output_type": "execute_result"
    }
   ],
   "source": [
    "dfc_add.df"
   ],
   "metadata": {
    "collapsed": false,
    "pycharm": {
     "name": "#%%\n"
    }
   }
  },
  {
   "cell_type": "code",
   "execution_count": 29,
   "outputs": [
    {
     "data": {
      "text/plain": "      Unnamed: 0.1  Unnamed: 0  SITE_ID     X  SUB_ID           FILE_ID  \\\n0                0           0     PITT     1   50002      Pitt_0050002   \n1                1           1     PITT     2   50003      Pitt_0050003   \n2                2           2     PITT     3   50004      Pitt_0050004   \n3                3           3     PITT     4   50005      Pitt_0050005   \n4                4           4     PITT     5   50006      Pitt_0050006   \n...            ...         ...      ...   ...     ...               ...   \n1069          1069        1097      SBL  1108   51583       SBL_0051583   \n1070          1070        1098      SBL  1109   51584       SBL_0051584   \n1071          1071        1099      SBL  1110   51585       SBL_0051585   \n1072          1072        1100  MAX_MUN  1111   51606  MaxMun_a_0051606   \n1073          1073        1101  MAX_MUN  1112   51607  MaxMun_a_0051607   \n\n      AGE_AT_SCAN  SEX  DSM_IV_TR  DX_GROUP  \\\n0           16.77    1          1         1   \n1           24.45    1          1         1   \n2           19.09    1          1         1   \n3           13.73    2          1         1   \n4           13.37    1          1         1   \n...           ...  ...        ...       ...   \n1069        35.00    1          2         1   \n1070        49.00    1          2         1   \n1071        27.00    1          1         1   \n1072        29.00    2          2         1   \n1073        26.00    1          2         1   \n\n                                FMRI_FILES                           CC200  \\\n0         Pitt_0050002_func_preproc.nii.gz      Pitt_0050002_rois_cc200.1D   \n1         Pitt_0050003_func_preproc.nii.gz      Pitt_0050003_rois_cc200.1D   \n2         Pitt_0050004_func_preproc.nii.gz      Pitt_0050004_rois_cc200.1D   \n3         Pitt_0050005_func_preproc.nii.gz      Pitt_0050005_rois_cc200.1D   \n4         Pitt_0050006_func_preproc.nii.gz      Pitt_0050006_rois_cc200.1D   \n...                                    ...                             ...   \n1069       SBL_0051583_func_preproc.nii.gz       SBL_0051583_rois_cc200.1D   \n1070       SBL_0051584_func_preproc.nii.gz       SBL_0051584_rois_cc200.1D   \n1071       SBL_0051585_func_preproc.nii.gz       SBL_0051585_rois_cc200.1D   \n1072  MaxMun_a_0051606_func_preproc.nii.gz  MaxMun_a_0051606_rois_cc200.1D   \n1073  MaxMun_a_0051607_func_preproc.nii.gz  MaxMun_a_0051607_rois_cc200.1D   \n\n                DFC_DATA_STORE  \n0         Pitt_0050002_dfc.pkl  \n1         Pitt_0050003_dfc.pkl  \n2         Pitt_0050004_dfc.pkl  \n3         Pitt_0050005_dfc.pkl  \n4         Pitt_0050006_dfc.pkl  \n...                        ...  \n1069       SBL_0051583_dfc.pkl  \n1070       SBL_0051584_dfc.pkl  \n1071       SBL_0051585_dfc.pkl  \n1072  MaxMun_a_0051606_dfc.pkl  \n1073  MaxMun_a_0051607_dfc.pkl  \n\n[1074 rows x 13 columns]",
      "text/html": "<div>\n<style scoped>\n    .dataframe tbody tr th:only-of-type {\n        vertical-align: middle;\n    }\n\n    .dataframe tbody tr th {\n        vertical-align: top;\n    }\n\n    .dataframe thead th {\n        text-align: right;\n    }\n</style>\n<table border=\"1\" class=\"dataframe\">\n  <thead>\n    <tr style=\"text-align: right;\">\n      <th></th>\n      <th>Unnamed: 0.1</th>\n      <th>Unnamed: 0</th>\n      <th>SITE_ID</th>\n      <th>X</th>\n      <th>SUB_ID</th>\n      <th>FILE_ID</th>\n      <th>AGE_AT_SCAN</th>\n      <th>SEX</th>\n      <th>DSM_IV_TR</th>\n      <th>DX_GROUP</th>\n      <th>FMRI_FILES</th>\n      <th>CC200</th>\n      <th>DFC_DATA_STORE</th>\n    </tr>\n  </thead>\n  <tbody>\n    <tr>\n      <th>0</th>\n      <td>0</td>\n      <td>0</td>\n      <td>PITT</td>\n      <td>1</td>\n      <td>50002</td>\n      <td>Pitt_0050002</td>\n      <td>16.77</td>\n      <td>1</td>\n      <td>1</td>\n      <td>1</td>\n      <td>Pitt_0050002_func_preproc.nii.gz</td>\n      <td>Pitt_0050002_rois_cc200.1D</td>\n      <td>Pitt_0050002_dfc.pkl</td>\n    </tr>\n    <tr>\n      <th>1</th>\n      <td>1</td>\n      <td>1</td>\n      <td>PITT</td>\n      <td>2</td>\n      <td>50003</td>\n      <td>Pitt_0050003</td>\n      <td>24.45</td>\n      <td>1</td>\n      <td>1</td>\n      <td>1</td>\n      <td>Pitt_0050003_func_preproc.nii.gz</td>\n      <td>Pitt_0050003_rois_cc200.1D</td>\n      <td>Pitt_0050003_dfc.pkl</td>\n    </tr>\n    <tr>\n      <th>2</th>\n      <td>2</td>\n      <td>2</td>\n      <td>PITT</td>\n      <td>3</td>\n      <td>50004</td>\n      <td>Pitt_0050004</td>\n      <td>19.09</td>\n      <td>1</td>\n      <td>1</td>\n      <td>1</td>\n      <td>Pitt_0050004_func_preproc.nii.gz</td>\n      <td>Pitt_0050004_rois_cc200.1D</td>\n      <td>Pitt_0050004_dfc.pkl</td>\n    </tr>\n    <tr>\n      <th>3</th>\n      <td>3</td>\n      <td>3</td>\n      <td>PITT</td>\n      <td>4</td>\n      <td>50005</td>\n      <td>Pitt_0050005</td>\n      <td>13.73</td>\n      <td>2</td>\n      <td>1</td>\n      <td>1</td>\n      <td>Pitt_0050005_func_preproc.nii.gz</td>\n      <td>Pitt_0050005_rois_cc200.1D</td>\n      <td>Pitt_0050005_dfc.pkl</td>\n    </tr>\n    <tr>\n      <th>4</th>\n      <td>4</td>\n      <td>4</td>\n      <td>PITT</td>\n      <td>5</td>\n      <td>50006</td>\n      <td>Pitt_0050006</td>\n      <td>13.37</td>\n      <td>1</td>\n      <td>1</td>\n      <td>1</td>\n      <td>Pitt_0050006_func_preproc.nii.gz</td>\n      <td>Pitt_0050006_rois_cc200.1D</td>\n      <td>Pitt_0050006_dfc.pkl</td>\n    </tr>\n    <tr>\n      <th>...</th>\n      <td>...</td>\n      <td>...</td>\n      <td>...</td>\n      <td>...</td>\n      <td>...</td>\n      <td>...</td>\n      <td>...</td>\n      <td>...</td>\n      <td>...</td>\n      <td>...</td>\n      <td>...</td>\n      <td>...</td>\n      <td>...</td>\n    </tr>\n    <tr>\n      <th>1069</th>\n      <td>1069</td>\n      <td>1097</td>\n      <td>SBL</td>\n      <td>1108</td>\n      <td>51583</td>\n      <td>SBL_0051583</td>\n      <td>35.00</td>\n      <td>1</td>\n      <td>2</td>\n      <td>1</td>\n      <td>SBL_0051583_func_preproc.nii.gz</td>\n      <td>SBL_0051583_rois_cc200.1D</td>\n      <td>SBL_0051583_dfc.pkl</td>\n    </tr>\n    <tr>\n      <th>1070</th>\n      <td>1070</td>\n      <td>1098</td>\n      <td>SBL</td>\n      <td>1109</td>\n      <td>51584</td>\n      <td>SBL_0051584</td>\n      <td>49.00</td>\n      <td>1</td>\n      <td>2</td>\n      <td>1</td>\n      <td>SBL_0051584_func_preproc.nii.gz</td>\n      <td>SBL_0051584_rois_cc200.1D</td>\n      <td>SBL_0051584_dfc.pkl</td>\n    </tr>\n    <tr>\n      <th>1071</th>\n      <td>1071</td>\n      <td>1099</td>\n      <td>SBL</td>\n      <td>1110</td>\n      <td>51585</td>\n      <td>SBL_0051585</td>\n      <td>27.00</td>\n      <td>1</td>\n      <td>1</td>\n      <td>1</td>\n      <td>SBL_0051585_func_preproc.nii.gz</td>\n      <td>SBL_0051585_rois_cc200.1D</td>\n      <td>SBL_0051585_dfc.pkl</td>\n    </tr>\n    <tr>\n      <th>1072</th>\n      <td>1072</td>\n      <td>1100</td>\n      <td>MAX_MUN</td>\n      <td>1111</td>\n      <td>51606</td>\n      <td>MaxMun_a_0051606</td>\n      <td>29.00</td>\n      <td>2</td>\n      <td>2</td>\n      <td>1</td>\n      <td>MaxMun_a_0051606_func_preproc.nii.gz</td>\n      <td>MaxMun_a_0051606_rois_cc200.1D</td>\n      <td>MaxMun_a_0051606_dfc.pkl</td>\n    </tr>\n    <tr>\n      <th>1073</th>\n      <td>1073</td>\n      <td>1101</td>\n      <td>MAX_MUN</td>\n      <td>1112</td>\n      <td>51607</td>\n      <td>MaxMun_a_0051607</td>\n      <td>26.00</td>\n      <td>1</td>\n      <td>2</td>\n      <td>1</td>\n      <td>MaxMun_a_0051607_func_preproc.nii.gz</td>\n      <td>MaxMun_a_0051607_rois_cc200.1D</td>\n      <td>MaxMun_a_0051607_dfc.pkl</td>\n    </tr>\n  </tbody>\n</table>\n<p>1074 rows × 13 columns</p>\n</div>"
     },
     "execution_count": 29,
     "metadata": {},
     "output_type": "execute_result"
    }
   ],
   "source": [
    "dfc_add.add_feature('DFC_DATA_STORE', 'dfc_cc200','.pkl')# add pickle files containing DFC data dictionaries"
   ],
   "metadata": {
    "collapsed": false,
    "pycharm": {
     "name": "#%%\n"
    }
   }
  },
  {
   "cell_type": "code",
   "execution_count": 32,
   "outputs": [],
   "source": [
    "pkl_df = dfc_add.df"
   ],
   "metadata": {
    "collapsed": false,
    "pycharm": {
     "name": "#%%\n"
    }
   }
  },
  {
   "cell_type": "code",
   "execution_count": 33,
   "outputs": [],
   "source": [
    "save_path = os.path.join(dfc_add.pheno_dir, 'pheno_clean.csv')  # path for saving df as csv\n",
    "pkl_df.to_csv(save_path)  # save altered dataframe as csv"
   ],
   "metadata": {
    "collapsed": false,
    "pycharm": {
     "name": "#%%\n"
    }
   }
  },
  {
   "cell_type": "code",
   "execution_count": null,
   "outputs": [],
   "source": [],
   "metadata": {
    "collapsed": false,
    "pycharm": {
     "name": "#%%\n"
    }
   }
  }
 ],
 "metadata": {
  "kernelspec": {
   "display_name": "Python 3",
   "language": "python",
   "name": "python3"
  },
  "language_info": {
   "codemirror_mode": {
    "name": "ipython",
    "version": 2
   },
   "file_extension": ".py",
   "mimetype": "text/x-python",
   "name": "python",
   "nbconvert_exporter": "python",
   "pygments_lexer": "ipython2",
   "version": "2.7.6"
  }
 },
 "nbformat": 4,
 "nbformat_minor": 0
}