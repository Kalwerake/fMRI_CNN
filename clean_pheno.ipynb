{
 "cells": [
  {
   "cell_type": "code",
   "execution_count": 2,
   "id": "4f59b6ef-f91f-4d5e-a6c1-17b32a07d748",
   "metadata": {},
   "outputs": [],
   "source": [
    "import os\n",
    "import numpy as np\n",
    "import pandas as pd\n",
    "import re"
   ]
  },
  {
   "cell_type": "code",
   "execution_count": 12,
   "id": "82a4c7b2-034d-4f25-bccb-cef4b9e1f501",
   "metadata": {},
   "outputs": [],
   "source": [
    "os.chdir('/Users/admin/Documents/Project')\n",
    "repo = os.getcwd()+'/DataDir'"
   ]
  },
  {
   "cell_type": "code",
   "execution_count": 13,
   "id": "c0962392-8066-4979-844f-8b5494974f37",
   "metadata": {},
   "outputs": [
    {
     "data": {
      "text/plain": [
       "'/Users/admin/Documents/Project/DataDir'"
      ]
     },
     "execution_count": 13,
     "metadata": {},
     "output_type": "execute_result"
    }
   ],
   "source": [
    "repo"
   ]
  },
  {
   "cell_type": "code",
   "execution_count": 14,
   "id": "10398a09-aadb-4ee2-802c-25e9b3b100ab",
   "metadata": {},
   "outputs": [],
   "source": [
    "filenames = next(os.walk(repo))[2]\n",
    "filenames = [filenames[i] for i in range(len(filenames)) if 'nii.gz' in filenames[i]]"
   ]
  },
  {
   "cell_type": "code",
   "execution_count": 6,
   "id": "f316280e-3e8e-4f08-86be-4b68b70e0ff3",
   "metadata": {},
   "outputs": [],
   "source": [
    "phenotypic = pd.read_csv('Phenotypic_V1_0b_preprocessed1.csv')"
   ]
  },
  {
   "cell_type": "code",
   "execution_count": 4,
   "id": "6f8ca6e3-7b76-4a21-8997-0751606419af",
   "metadata": {},
   "outputs": [
    {
     "data": {
      "text/html": [
       "<div>\n",
       "<style scoped>\n",
       "    .dataframe tbody tr th:only-of-type {\n",
       "        vertical-align: middle;\n",
       "    }\n",
       "\n",
       "    .dataframe tbody tr th {\n",
       "        vertical-align: top;\n",
       "    }\n",
       "\n",
       "    .dataframe thead th {\n",
       "        text-align: right;\n",
       "    }\n",
       "</style>\n",
       "<table border=\"1\" class=\"dataframe\">\n",
       "  <thead>\n",
       "    <tr style=\"text-align: right;\">\n",
       "      <th></th>\n",
       "      <th>Unnamed: 0.1</th>\n",
       "      <th>Unnamed: 0</th>\n",
       "      <th>SUB_ID</th>\n",
       "      <th>X</th>\n",
       "      <th>subject</th>\n",
       "      <th>SITE_ID</th>\n",
       "      <th>FILE_ID</th>\n",
       "      <th>DX_GROUP</th>\n",
       "      <th>DSM_IV_TR</th>\n",
       "      <th>AGE_AT_SCAN</th>\n",
       "      <th>...</th>\n",
       "      <th>qc_notes_rater_1</th>\n",
       "      <th>qc_anat_rater_2</th>\n",
       "      <th>qc_anat_notes_rater_2</th>\n",
       "      <th>qc_func_rater_2</th>\n",
       "      <th>qc_func_notes_rater_2</th>\n",
       "      <th>qc_anat_rater_3</th>\n",
       "      <th>qc_anat_notes_rater_3</th>\n",
       "      <th>qc_func_rater_3</th>\n",
       "      <th>qc_func_notes_rater_3</th>\n",
       "      <th>SUB_IN_SMP</th>\n",
       "    </tr>\n",
       "  </thead>\n",
       "  <tbody>\n",
       "    <tr>\n",
       "      <th>0</th>\n",
       "      <td>0</td>\n",
       "      <td>1</td>\n",
       "      <td>50002</td>\n",
       "      <td>1</td>\n",
       "      <td>50002</td>\n",
       "      <td>PITT</td>\n",
       "      <td>no_filename</td>\n",
       "      <td>1</td>\n",
       "      <td>1</td>\n",
       "      <td>16.77</td>\n",
       "      <td>...</td>\n",
       "      <td>NaN</td>\n",
       "      <td>OK</td>\n",
       "      <td>NaN</td>\n",
       "      <td>fail</td>\n",
       "      <td>ic-parietal-cerebellum</td>\n",
       "      <td>OK</td>\n",
       "      <td>NaN</td>\n",
       "      <td>fail</td>\n",
       "      <td>ERROR #24</td>\n",
       "      <td>1</td>\n",
       "    </tr>\n",
       "    <tr>\n",
       "      <th>1</th>\n",
       "      <td>1</td>\n",
       "      <td>2</td>\n",
       "      <td>50003</td>\n",
       "      <td>2</td>\n",
       "      <td>50003</td>\n",
       "      <td>PITT</td>\n",
       "      <td>Pitt_0050003</td>\n",
       "      <td>1</td>\n",
       "      <td>1</td>\n",
       "      <td>24.45</td>\n",
       "      <td>...</td>\n",
       "      <td>NaN</td>\n",
       "      <td>OK</td>\n",
       "      <td>NaN</td>\n",
       "      <td>OK</td>\n",
       "      <td>NaN</td>\n",
       "      <td>OK</td>\n",
       "      <td>NaN</td>\n",
       "      <td>OK</td>\n",
       "      <td>NaN</td>\n",
       "      <td>1</td>\n",
       "    </tr>\n",
       "    <tr>\n",
       "      <th>2</th>\n",
       "      <td>2</td>\n",
       "      <td>3</td>\n",
       "      <td>50004</td>\n",
       "      <td>3</td>\n",
       "      <td>50004</td>\n",
       "      <td>PITT</td>\n",
       "      <td>Pitt_0050004</td>\n",
       "      <td>1</td>\n",
       "      <td>1</td>\n",
       "      <td>19.09</td>\n",
       "      <td>...</td>\n",
       "      <td>NaN</td>\n",
       "      <td>OK</td>\n",
       "      <td>NaN</td>\n",
       "      <td>OK</td>\n",
       "      <td>NaN</td>\n",
       "      <td>OK</td>\n",
       "      <td>NaN</td>\n",
       "      <td>OK</td>\n",
       "      <td>NaN</td>\n",
       "      <td>1</td>\n",
       "    </tr>\n",
       "    <tr>\n",
       "      <th>3</th>\n",
       "      <td>3</td>\n",
       "      <td>4</td>\n",
       "      <td>50005</td>\n",
       "      <td>4</td>\n",
       "      <td>50005</td>\n",
       "      <td>PITT</td>\n",
       "      <td>Pitt_0050005</td>\n",
       "      <td>1</td>\n",
       "      <td>1</td>\n",
       "      <td>13.73</td>\n",
       "      <td>...</td>\n",
       "      <td>NaN</td>\n",
       "      <td>OK</td>\n",
       "      <td>NaN</td>\n",
       "      <td>maybe</td>\n",
       "      <td>ic-parietal-cerebellum</td>\n",
       "      <td>OK</td>\n",
       "      <td>NaN</td>\n",
       "      <td>OK</td>\n",
       "      <td>NaN</td>\n",
       "      <td>0</td>\n",
       "    </tr>\n",
       "    <tr>\n",
       "      <th>4</th>\n",
       "      <td>4</td>\n",
       "      <td>5</td>\n",
       "      <td>50006</td>\n",
       "      <td>5</td>\n",
       "      <td>50006</td>\n",
       "      <td>PITT</td>\n",
       "      <td>Pitt_0050006</td>\n",
       "      <td>1</td>\n",
       "      <td>1</td>\n",
       "      <td>13.37</td>\n",
       "      <td>...</td>\n",
       "      <td>NaN</td>\n",
       "      <td>OK</td>\n",
       "      <td>NaN</td>\n",
       "      <td>maybe</td>\n",
       "      <td>ic-parietal slight</td>\n",
       "      <td>OK</td>\n",
       "      <td>NaN</td>\n",
       "      <td>OK</td>\n",
       "      <td>NaN</td>\n",
       "      <td>1</td>\n",
       "    </tr>\n",
       "  </tbody>\n",
       "</table>\n",
       "<p>5 rows × 106 columns</p>\n",
       "</div>"
      ],
      "text/plain": [
       "   Unnamed: 0.1  Unnamed: 0  SUB_ID  X  subject SITE_ID       FILE_ID  \\\n",
       "0             0           1   50002  1    50002    PITT   no_filename   \n",
       "1             1           2   50003  2    50003    PITT  Pitt_0050003   \n",
       "2             2           3   50004  3    50004    PITT  Pitt_0050004   \n",
       "3             3           4   50005  4    50005    PITT  Pitt_0050005   \n",
       "4             4           5   50006  5    50006    PITT  Pitt_0050006   \n",
       "\n",
       "   DX_GROUP  DSM_IV_TR  AGE_AT_SCAN  ...  qc_notes_rater_1 qc_anat_rater_2  \\\n",
       "0         1          1        16.77  ...               NaN              OK   \n",
       "1         1          1        24.45  ...               NaN              OK   \n",
       "2         1          1        19.09  ...               NaN              OK   \n",
       "3         1          1        13.73  ...               NaN              OK   \n",
       "4         1          1        13.37  ...               NaN              OK   \n",
       "\n",
       "   qc_anat_notes_rater_2  qc_func_rater_2   qc_func_notes_rater_2  \\\n",
       "0                    NaN             fail  ic-parietal-cerebellum   \n",
       "1                    NaN               OK                     NaN   \n",
       "2                    NaN               OK                     NaN   \n",
       "3                    NaN            maybe  ic-parietal-cerebellum   \n",
       "4                    NaN            maybe      ic-parietal slight   \n",
       "\n",
       "   qc_anat_rater_3 qc_anat_notes_rater_3 qc_func_rater_3  \\\n",
       "0               OK                   NaN            fail   \n",
       "1               OK                   NaN              OK   \n",
       "2               OK                   NaN              OK   \n",
       "3               OK                   NaN              OK   \n",
       "4               OK                   NaN              OK   \n",
       "\n",
       "  qc_func_notes_rater_3  SUB_IN_SMP  \n",
       "0             ERROR #24           1  \n",
       "1                   NaN           1  \n",
       "2                   NaN           1  \n",
       "3                   NaN           0  \n",
       "4                   NaN           1  \n",
       "\n",
       "[5 rows x 106 columns]"
      ]
     },
     "execution_count": 4,
     "metadata": {},
     "output_type": "execute_result"
    }
   ],
   "source": [
    "phenotypic.head()"
   ]
  },
  {
   "cell_type": "code",
   "execution_count": 5,
   "id": "7b96d248-781e-4d15-8630-061e25ad0273",
   "metadata": {},
   "outputs": [],
   "source": [
    "p_df = phenotypic[['SITE_ID','X','SUB_ID','FILE_ID','AGE_AT_SCAN','SEX','DSM_IV_TR','DX_GROUP']]"
   ]
  },
  {
   "cell_type": "markdown",
   "id": "700a4596-f494-4abf-b9a7-f77321ef48cb",
   "metadata": {},
   "source": [
    "Phenotypic file has extra rows"
   ]
  },
  {
   "cell_type": "code",
   "execution_count": 20,
   "id": "a84818be-a251-414a-9040-0dc9ed577a43",
   "metadata": {},
   "outputs": [
    {
     "data": {
      "text/plain": [
       "(1112, 8)"
      ]
     },
     "execution_count": 20,
     "metadata": {},
     "output_type": "execute_result"
    }
   ],
   "source": [
    "p_df.shape"
   ]
  },
  {
   "cell_type": "code",
   "execution_count": 21,
   "id": "0e989c64-379e-48fe-8552-25edb85362a9",
   "metadata": {},
   "outputs": [
    {
     "data": {
      "text/plain": [
       "1102"
      ]
     },
     "execution_count": 21,
     "metadata": {},
     "output_type": "execute_result"
    }
   ],
   "source": [
    "len(filenames)"
   ]
  },
  {
   "cell_type": "code",
   "execution_count": 22,
   "id": "4cda130f-067e-4a86-ba20-08523db70e2e",
   "metadata": {},
   "outputs": [],
   "source": [
    "present = []\n",
    "for i in range(len(filenames)):\n",
    "    here = re.search( '5\\d+\\d',filenames[i]).group()\n",
    "    present.append(int(here))"
   ]
  },
  {
   "cell_type": "code",
   "execution_count": 23,
   "id": "596f32ec-9c04-4fb1-91c7-71b8ab47e302",
   "metadata": {},
   "outputs": [],
   "source": [
    "absent = []\n",
    "for i in range(len(p_df)):\n",
    "    if p_df.loc[i, 'SUB_ID'] not in present:\n",
    "        absent.append(i)"
   ]
  },
  {
   "cell_type": "code",
   "execution_count": 24,
   "id": "237ca834-6008-4858-b5e0-d26597803ce8",
   "metadata": {},
   "outputs": [
    {
     "data": {
      "text/plain": [
       "True"
      ]
     },
     "execution_count": 24,
     "metadata": {},
     "output_type": "execute_result"
    }
   ],
   "source": [
    "len(p_df) -len(absent) == len(filenames)"
   ]
  },
  {
   "cell_type": "code",
   "execution_count": 25,
   "id": "da9e72e1-a428-4d11-8227-f5139ae179a8",
   "metadata": {},
   "outputs": [
    {
     "data": {
      "text/html": [
       "<div>\n",
       "<style scoped>\n",
       "    .dataframe tbody tr th:only-of-type {\n",
       "        vertical-align: middle;\n",
       "    }\n",
       "\n",
       "    .dataframe tbody tr th {\n",
       "        vertical-align: top;\n",
       "    }\n",
       "\n",
       "    .dataframe thead th {\n",
       "        text-align: right;\n",
       "    }\n",
       "</style>\n",
       "<table border=\"1\" class=\"dataframe\">\n",
       "  <thead>\n",
       "    <tr style=\"text-align: right;\">\n",
       "      <th></th>\n",
       "      <th>SITE_ID</th>\n",
       "      <th>X</th>\n",
       "      <th>SUB_ID</th>\n",
       "      <th>FILE_ID</th>\n",
       "      <th>AGE_AT_SCAN</th>\n",
       "      <th>SEX</th>\n",
       "      <th>DSM_IV_TR</th>\n",
       "      <th>DX_GROUP</th>\n",
       "    </tr>\n",
       "  </thead>\n",
       "  <tbody>\n",
       "    <tr>\n",
       "      <th>909</th>\n",
       "      <td>UCLA_1</td>\n",
       "      <td>910</td>\n",
       "      <td>51232</td>\n",
       "      <td>no_filename</td>\n",
       "      <td>15.79</td>\n",
       "      <td>1</td>\n",
       "      <td>1</td>\n",
       "      <td>1</td>\n",
       "    </tr>\n",
       "    <tr>\n",
       "      <th>910</th>\n",
       "      <td>UCLA_1</td>\n",
       "      <td>911</td>\n",
       "      <td>51233</td>\n",
       "      <td>no_filename</td>\n",
       "      <td>12.75</td>\n",
       "      <td>1</td>\n",
       "      <td>1</td>\n",
       "      <td>1</td>\n",
       "    </tr>\n",
       "    <tr>\n",
       "      <th>919</th>\n",
       "      <td>UCLA_1</td>\n",
       "      <td>920</td>\n",
       "      <td>51242</td>\n",
       "      <td>no_filename</td>\n",
       "      <td>14.14</td>\n",
       "      <td>2</td>\n",
       "      <td>1</td>\n",
       "      <td>1</td>\n",
       "    </tr>\n",
       "    <tr>\n",
       "      <th>920</th>\n",
       "      <td>UCLA_1</td>\n",
       "      <td>921</td>\n",
       "      <td>51243</td>\n",
       "      <td>no_filename</td>\n",
       "      <td>11.69</td>\n",
       "      <td>1</td>\n",
       "      <td>1</td>\n",
       "      <td>1</td>\n",
       "    </tr>\n",
       "    <tr>\n",
       "      <th>921</th>\n",
       "      <td>UCLA_1</td>\n",
       "      <td>922</td>\n",
       "      <td>51244</td>\n",
       "      <td>no_filename</td>\n",
       "      <td>13.09</td>\n",
       "      <td>1</td>\n",
       "      <td>1</td>\n",
       "      <td>1</td>\n",
       "    </tr>\n",
       "    <tr>\n",
       "      <th>922</th>\n",
       "      <td>UCLA_1</td>\n",
       "      <td>923</td>\n",
       "      <td>51245</td>\n",
       "      <td>no_filename</td>\n",
       "      <td>14.98</td>\n",
       "      <td>1</td>\n",
       "      <td>1</td>\n",
       "      <td>1</td>\n",
       "    </tr>\n",
       "    <tr>\n",
       "      <th>923</th>\n",
       "      <td>UCLA_1</td>\n",
       "      <td>924</td>\n",
       "      <td>51246</td>\n",
       "      <td>no_filename</td>\n",
       "      <td>13.10</td>\n",
       "      <td>1</td>\n",
       "      <td>1</td>\n",
       "      <td>1</td>\n",
       "    </tr>\n",
       "    <tr>\n",
       "      <th>924</th>\n",
       "      <td>UCLA_1</td>\n",
       "      <td>925</td>\n",
       "      <td>51247</td>\n",
       "      <td>no_filename</td>\n",
       "      <td>11.97</td>\n",
       "      <td>1</td>\n",
       "      <td>1</td>\n",
       "      <td>1</td>\n",
       "    </tr>\n",
       "    <tr>\n",
       "      <th>947</th>\n",
       "      <td>UCLA_1</td>\n",
       "      <td>948</td>\n",
       "      <td>51270</td>\n",
       "      <td>no_filename</td>\n",
       "      <td>11.08</td>\n",
       "      <td>1</td>\n",
       "      <td>0</td>\n",
       "      <td>2</td>\n",
       "    </tr>\n",
       "    <tr>\n",
       "      <th>979</th>\n",
       "      <td>UCLA_2</td>\n",
       "      <td>980</td>\n",
       "      <td>51310</td>\n",
       "      <td>no_filename</td>\n",
       "      <td>11.70</td>\n",
       "      <td>1</td>\n",
       "      <td>0</td>\n",
       "      <td>2</td>\n",
       "    </tr>\n",
       "  </tbody>\n",
       "</table>\n",
       "</div>"
      ],
      "text/plain": [
       "    SITE_ID    X  SUB_ID      FILE_ID  AGE_AT_SCAN  SEX  DSM_IV_TR  DX_GROUP\n",
       "909  UCLA_1  910   51232  no_filename        15.79    1          1         1\n",
       "910  UCLA_1  911   51233  no_filename        12.75    1          1         1\n",
       "919  UCLA_1  920   51242  no_filename        14.14    2          1         1\n",
       "920  UCLA_1  921   51243  no_filename        11.69    1          1         1\n",
       "921  UCLA_1  922   51244  no_filename        13.09    1          1         1\n",
       "922  UCLA_1  923   51245  no_filename        14.98    1          1         1\n",
       "923  UCLA_1  924   51246  no_filename        13.10    1          1         1\n",
       "924  UCLA_1  925   51247  no_filename        11.97    1          1         1\n",
       "947  UCLA_1  948   51270  no_filename        11.08    1          0         2\n",
       "979  UCLA_2  980   51310  no_filename        11.70    1          0         2"
      ]
     },
     "execution_count": 25,
     "metadata": {},
     "output_type": "execute_result"
    }
   ],
   "source": [
    "p_df.iloc[absent]"
   ]
  },
  {
   "cell_type": "code",
   "execution_count": 26,
   "id": "8464f879-bc8c-40a4-b4cd-263a637815f0",
   "metadata": {},
   "outputs": [],
   "source": [
    "p_df.drop(absent,inplace = True)\n",
    "p_df.reset_index(drop= True,inplace = True)"
   ]
  },
  {
   "cell_type": "code",
   "execution_count": 27,
   "id": "2f2a8f59-21b3-4ac9-8497-5fdb437e1eb4",
   "metadata": {},
   "outputs": [],
   "source": [
    "file_index = list(range(len(filenames)))\n",
    "for i in range(len(filenames)):\n",
    "    ID = re.search( '5\\d+\\d',filenames[i]).group()\n",
    "    index = p_df[p_df['SUB_ID'] == int(ID)].index[0]\n",
    "    file_index[index]= filenames[i]"
   ]
  },
  {
   "cell_type": "code",
   "execution_count": 28,
   "id": "4dfcc91c-11be-4116-9995-fb13de9cc51e",
   "metadata": {},
   "outputs": [],
   "source": [
    "p_df['FILE_NAME']= file_index"
   ]
  },
  {
   "cell_type": "code",
   "execution_count": 31,
   "id": "c958b9fc-f521-4166-b02b-576923e1dd00",
   "metadata": {},
   "outputs": [],
   "source": [
    "p_df.to_csv('pheno_clean.csv')"
   ]
  }
 ],
 "metadata": {
  "kernelspec": {
   "display_name": "Python 3 (ipykernel)",
   "language": "python",
   "name": "python3"
  },
  "language_info": {
   "codemirror_mode": {
    "name": "ipython",
    "version": 3
   },
   "file_extension": ".py",
   "mimetype": "text/x-python",
   "name": "python",
   "nbconvert_exporter": "python",
   "pygments_lexer": "ipython3",
   "version": "3.8.8"
  }
 },
 "nbformat": 4,
 "nbformat_minor": 5
}
